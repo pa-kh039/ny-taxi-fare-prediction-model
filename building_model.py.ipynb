{
 "cells": [
  {
   "cell_type": "markdown",
   "id": "fd59b6d4",
   "metadata": {},
   "source": [
    "# NY Taxi Fare Prediction Model"
   ]
  },
  {
   "cell_type": "markdown",
   "id": "7166826b",
   "metadata": {},
   "source": [
    "By: Parth Khandenath\n",
    "\n",
    "References used:\n",
    "    \n",
    "1. geeks for geeks\n",
    "\n",
    "2. https://scikit-learn.org/stable/\n",
    "\n",
    "Get the training and test data from https://www.kaggle.com/competitions/new-york-city-taxi-fare-prediction/code"
   ]
  },
  {
   "cell_type": "markdown",
   "id": "8770e365",
   "metadata": {},
   "source": [
    "# Part1"
   ]
  },
  {
   "cell_type": "code",
   "execution_count": 1,
   "id": "6a1b2a09",
   "metadata": {},
   "outputs": [],
   "source": [
    "import numpy as np \n",
    "import pandas as pd \n",
    "import seaborn as sns\n",
    "import matplotlib.pyplot as plt"
   ]
  },
  {
   "cell_type": "code",
   "execution_count": 2,
   "id": "cc68ce5a",
   "metadata": {},
   "outputs": [],
   "source": [
    "train = pd.read_csv(\"train.csv\",nrows= 1000000)\n",
    "test = pd.read_csv(\"test.csv\")"
   ]
  },
  {
   "cell_type": "code",
   "execution_count": 3,
   "id": "a631f135",
   "metadata": {},
   "outputs": [
    {
     "name": "stdout",
     "output_type": "stream",
     "text": [
      "<class 'pandas.core.frame.DataFrame'>\n",
      "RangeIndex: 1000000 entries, 0 to 999999\n",
      "Data columns (total 8 columns):\n",
      " #   Column             Non-Null Count    Dtype  \n",
      "---  ------             --------------    -----  \n",
      " 0   key                1000000 non-null  object \n",
      " 1   fare_amount        1000000 non-null  float64\n",
      " 2   pickup_datetime    1000000 non-null  object \n",
      " 3   pickup_longitude   1000000 non-null  float64\n",
      " 4   pickup_latitude    1000000 non-null  float64\n",
      " 5   dropoff_longitude  999990 non-null   float64\n",
      " 6   dropoff_latitude   999990 non-null   float64\n",
      " 7   passenger_count    1000000 non-null  int64  \n",
      "dtypes: float64(5), int64(1), object(2)\n",
      "memory usage: 61.0+ MB\n"
     ]
    }
   ],
   "source": [
    "train.info()"
   ]
  },
  {
   "cell_type": "markdown",
   "id": "26ac81a0",
   "metadata": {},
   "source": [
    "## Part A\n",
    "Data Cleansing"
   ]
  },
  {
   "cell_type": "code",
   "execution_count": 4,
   "id": "8bc5c802",
   "metadata": {},
   "outputs": [
    {
     "name": "stdout",
     "output_type": "stream",
     "text": [
      "Shape of the Training data : (1000000, 8)\n"
     ]
    }
   ],
   "source": [
    "# Checking the no of rows & columns in the dataset\n",
    "print(\"Shape of the Training data :\", train.shape)"
   ]
  },
  {
   "cell_type": "code",
   "execution_count": 5,
   "id": "938cd5ff",
   "metadata": {},
   "outputs": [
    {
     "name": "stdout",
     "output_type": "stream",
     "text": [
      "All columns are : ['key', 'fare_amount', 'pickup_datetime', 'pickup_longitude', 'pickup_latitude', 'dropoff_longitude', 'dropoff_latitude', 'passenger_count']\n"
     ]
    }
   ],
   "source": [
    "# See all the columns in the dataset\n",
    "print(\"All columns are :\", list(train.columns))"
   ]
  },
  {
   "cell_type": "code",
   "execution_count": 6,
   "id": "2d31d650",
   "metadata": {},
   "outputs": [
    {
     "name": "stdout",
     "output_type": "stream",
     "text": [
      "<class 'pandas.core.frame.DataFrame'>\n",
      "RangeIndex: 1000000 entries, 0 to 999999\n",
      "Data columns (total 8 columns):\n",
      " #   Column             Non-Null Count    Dtype  \n",
      "---  ------             --------------    -----  \n",
      " 0   key                1000000 non-null  object \n",
      " 1   fare_amount        1000000 non-null  float64\n",
      " 2   pickup_datetime    1000000 non-null  object \n",
      " 3   pickup_longitude   1000000 non-null  float64\n",
      " 4   pickup_latitude    1000000 non-null  float64\n",
      " 5   dropoff_longitude  999990 non-null   float64\n",
      " 6   dropoff_latitude   999990 non-null   float64\n",
      " 7   passenger_count    1000000 non-null  int64  \n",
      "dtypes: float64(5), int64(1), object(2)\n",
      "memory usage: 61.0+ MB\n"
     ]
    }
   ],
   "source": [
    "# Checking datatypes & count of not-null values in each field\n",
    "train.info()"
   ]
  },
  {
   "cell_type": "markdown",
   "id": "c55cc07f",
   "metadata": {},
   "source": [
    "As you can see in the above cell, there are some null-values for dropoff_longitude and dropoff_latitude, becuase the number of entries is greater than number of non-null values for dropoff_longitude and dropoff_latitude."
   ]
  },
  {
   "cell_type": "code",
   "execution_count": 7,
   "id": "4382d9d9",
   "metadata": {},
   "outputs": [
    {
     "name": "stdout",
     "output_type": "stream",
     "text": [
      "number of entries in train.csv with dropoff_longitude = null :  10\n",
      "number of entries in train.csv with dropoff_latitude = null :  10\n"
     ]
    }
   ],
   "source": [
    "#checking how many null values in train dataset\n",
    "print('number of entries in train.csv with dropoff_longitude = null : ',train['dropoff_longitude'].isnull().sum())\n",
    "print('number of entries in train.csv with dropoff_latitude = null : ',train['dropoff_latitude'].isnull().sum())  "
   ]
  },
  {
   "cell_type": "code",
   "execution_count": 8,
   "id": "308219a1",
   "metadata": {},
   "outputs": [
    {
     "name": "stdout",
     "output_type": "stream",
     "text": [
      "number of entries in test.csv with dropoff_longitude = null :  10\n",
      "number of entries in test.csv with dropoff_latitude = null :  10\n"
     ]
    }
   ],
   "source": [
    "#checking how many null values in test dataset\n",
    "print('number of entries in test.csv with dropoff_longitude = null : ',train['dropoff_longitude'].isnull().sum())\n",
    "print('number of entries in test.csv with dropoff_latitude = null : ',train['dropoff_latitude'].isnull().sum())  "
   ]
  },
  {
   "cell_type": "code",
   "execution_count": 9,
   "id": "a5dd36d6",
   "metadata": {},
   "outputs": [],
   "source": [
    "#dropping the entries with null values\n",
    "#saving the data hence obtained in another variable (for both test and train)\n",
    "train1=train.dropna(inplace=False,axis=0,subset=['dropoff_longitude','dropoff_latitude'])\n",
    "test1=test.dropna(inplace=False,axis=0,subset=['dropoff_longitude','dropoff_latitude'])"
   ]
  },
  {
   "cell_type": "code",
   "execution_count": 10,
   "id": "60aee5ca",
   "metadata": {},
   "outputs": [
    {
     "data": {
      "text/plain": [
       "key                  0\n",
       "fare_amount          0\n",
       "pickup_datetime      0\n",
       "pickup_longitude     0\n",
       "pickup_latitude      0\n",
       "dropoff_longitude    0\n",
       "dropoff_latitude     0\n",
       "passenger_count      0\n",
       "dtype: int64"
      ]
     },
     "execution_count": 10,
     "metadata": {},
     "output_type": "execute_result"
    }
   ],
   "source": [
    "train1.isnull().sum()"
   ]
  },
  {
   "cell_type": "markdown",
   "id": "284d78bb",
   "metadata": {},
   "source": [
    "As seen in above cell, train1 has no null values "
   ]
  },
  {
   "cell_type": "code",
   "execution_count": 11,
   "id": "2fb46768",
   "metadata": {},
   "outputs": [
    {
     "data": {
      "text/plain": [
       "key                  0\n",
       "pickup_datetime      0\n",
       "pickup_longitude     0\n",
       "pickup_latitude      0\n",
       "dropoff_longitude    0\n",
       "dropoff_latitude     0\n",
       "passenger_count      0\n",
       "dtype: int64"
      ]
     },
     "execution_count": 11,
     "metadata": {},
     "output_type": "execute_result"
    }
   ],
   "source": [
    "test1.isnull().sum()"
   ]
  },
  {
   "cell_type": "markdown",
   "id": "a858dc95",
   "metadata": {},
   "source": [
    "As seen in above cell, test1 has no null values "
   ]
  },
  {
   "cell_type": "code",
   "execution_count": 12,
   "id": "5517faf2",
   "metadata": {},
   "outputs": [
    {
     "data": {
      "text/html": [
       "<div>\n",
       "<style scoped>\n",
       "    .dataframe tbody tr th:only-of-type {\n",
       "        vertical-align: middle;\n",
       "    }\n",
       "\n",
       "    .dataframe tbody tr th {\n",
       "        vertical-align: top;\n",
       "    }\n",
       "\n",
       "    .dataframe thead th {\n",
       "        text-align: right;\n",
       "    }\n",
       "</style>\n",
       "<table border=\"1\" class=\"dataframe\">\n",
       "  <thead>\n",
       "    <tr style=\"text-align: right;\">\n",
       "      <th></th>\n",
       "      <th>fare_amount</th>\n",
       "      <th>pickup_longitude</th>\n",
       "      <th>pickup_latitude</th>\n",
       "      <th>dropoff_longitude</th>\n",
       "      <th>dropoff_latitude</th>\n",
       "      <th>passenger_count</th>\n",
       "    </tr>\n",
       "  </thead>\n",
       "  <tbody>\n",
       "    <tr>\n",
       "      <th>count</th>\n",
       "      <td>999990.000000</td>\n",
       "      <td>999990.000000</td>\n",
       "      <td>999990.000000</td>\n",
       "      <td>999990.000000</td>\n",
       "      <td>999990.000000</td>\n",
       "      <td>999990.000000</td>\n",
       "    </tr>\n",
       "    <tr>\n",
       "      <th>mean</th>\n",
       "      <td>11.347953</td>\n",
       "      <td>-72.526699</td>\n",
       "      <td>39.929040</td>\n",
       "      <td>-72.527860</td>\n",
       "      <td>39.919954</td>\n",
       "      <td>1.684941</td>\n",
       "    </tr>\n",
       "    <tr>\n",
       "      <th>std</th>\n",
       "      <td>9.821790</td>\n",
       "      <td>12.057778</td>\n",
       "      <td>7.626087</td>\n",
       "      <td>11.324494</td>\n",
       "      <td>8.201418</td>\n",
       "      <td>1.323907</td>\n",
       "    </tr>\n",
       "    <tr>\n",
       "      <th>min</th>\n",
       "      <td>-44.900000</td>\n",
       "      <td>-3377.680935</td>\n",
       "      <td>-3116.285383</td>\n",
       "      <td>-3383.296608</td>\n",
       "      <td>-3114.338567</td>\n",
       "      <td>0.000000</td>\n",
       "    </tr>\n",
       "    <tr>\n",
       "      <th>25%</th>\n",
       "      <td>6.000000</td>\n",
       "      <td>-73.992060</td>\n",
       "      <td>40.734965</td>\n",
       "      <td>-73.991385</td>\n",
       "      <td>40.734046</td>\n",
       "      <td>1.000000</td>\n",
       "    </tr>\n",
       "    <tr>\n",
       "      <th>50%</th>\n",
       "      <td>8.500000</td>\n",
       "      <td>-73.981792</td>\n",
       "      <td>40.752695</td>\n",
       "      <td>-73.980135</td>\n",
       "      <td>40.753166</td>\n",
       "      <td>1.000000</td>\n",
       "    </tr>\n",
       "    <tr>\n",
       "      <th>75%</th>\n",
       "      <td>12.500000</td>\n",
       "      <td>-73.967094</td>\n",
       "      <td>40.767154</td>\n",
       "      <td>-73.963654</td>\n",
       "      <td>40.768129</td>\n",
       "      <td>2.000000</td>\n",
       "    </tr>\n",
       "    <tr>\n",
       "      <th>max</th>\n",
       "      <td>500.000000</td>\n",
       "      <td>2522.271325</td>\n",
       "      <td>2621.628430</td>\n",
       "      <td>45.581619</td>\n",
       "      <td>1651.553433</td>\n",
       "      <td>208.000000</td>\n",
       "    </tr>\n",
       "  </tbody>\n",
       "</table>\n",
       "</div>"
      ],
      "text/plain": [
       "         fare_amount  pickup_longitude  pickup_latitude  dropoff_longitude  \\\n",
       "count  999990.000000     999990.000000    999990.000000      999990.000000   \n",
       "mean       11.347953        -72.526699        39.929040         -72.527860   \n",
       "std         9.821790         12.057778         7.626087          11.324494   \n",
       "min       -44.900000      -3377.680935     -3116.285383       -3383.296608   \n",
       "25%         6.000000        -73.992060        40.734965         -73.991385   \n",
       "50%         8.500000        -73.981792        40.752695         -73.980135   \n",
       "75%        12.500000        -73.967094        40.767154         -73.963654   \n",
       "max       500.000000       2522.271325      2621.628430          45.581619   \n",
       "\n",
       "       dropoff_latitude  passenger_count  \n",
       "count     999990.000000    999990.000000  \n",
       "mean          39.919954         1.684941  \n",
       "std            8.201418         1.323907  \n",
       "min        -3114.338567         0.000000  \n",
       "25%           40.734046         1.000000  \n",
       "50%           40.753166         1.000000  \n",
       "75%           40.768129         2.000000  \n",
       "max         1651.553433       208.000000  "
      ]
     },
     "execution_count": 12,
     "metadata": {},
     "output_type": "execute_result"
    }
   ],
   "source": [
    "train1.describe()"
   ]
  },
  {
   "cell_type": "markdown",
   "id": "8e2ba659",
   "metadata": {},
   "source": [
    "In the above cell we see that there are also negative fare_amounts (because the min value of fare_amount is negative). These are not practical, hence we will remove such entries."
   ]
  },
  {
   "cell_type": "code",
   "execution_count": 13,
   "id": "b9e7103e",
   "metadata": {},
   "outputs": [],
   "source": [
    "train1=train1.drop(train1[train1['fare_amount'] <= 0].index)"
   ]
  },
  {
   "cell_type": "code",
   "execution_count": 14,
   "id": "36dc509b",
   "metadata": {},
   "outputs": [
    {
     "data": {
      "text/html": [
       "<div>\n",
       "<style scoped>\n",
       "    .dataframe tbody tr th:only-of-type {\n",
       "        vertical-align: middle;\n",
       "    }\n",
       "\n",
       "    .dataframe tbody tr th {\n",
       "        vertical-align: top;\n",
       "    }\n",
       "\n",
       "    .dataframe thead th {\n",
       "        text-align: right;\n",
       "    }\n",
       "</style>\n",
       "<table border=\"1\" class=\"dataframe\">\n",
       "  <thead>\n",
       "    <tr style=\"text-align: right;\">\n",
       "      <th></th>\n",
       "      <th>fare_amount</th>\n",
       "      <th>pickup_longitude</th>\n",
       "      <th>pickup_latitude</th>\n",
       "      <th>dropoff_longitude</th>\n",
       "      <th>dropoff_latitude</th>\n",
       "      <th>passenger_count</th>\n",
       "    </tr>\n",
       "  </thead>\n",
       "  <tbody>\n",
       "    <tr>\n",
       "      <th>count</th>\n",
       "      <td>999923.000000</td>\n",
       "      <td>999923.000000</td>\n",
       "      <td>999923.000000</td>\n",
       "      <td>999923.000000</td>\n",
       "      <td>999923.000000</td>\n",
       "      <td>999923.000000</td>\n",
       "    </tr>\n",
       "    <tr>\n",
       "      <th>mean</th>\n",
       "      <td>11.348945</td>\n",
       "      <td>-72.526826</td>\n",
       "      <td>39.929108</td>\n",
       "      <td>-72.528356</td>\n",
       "      <td>39.920225</td>\n",
       "      <td>1.684955</td>\n",
       "    </tr>\n",
       "    <tr>\n",
       "      <th>std</th>\n",
       "      <td>9.821201</td>\n",
       "      <td>12.057522</td>\n",
       "      <td>7.626026</td>\n",
       "      <td>11.323010</td>\n",
       "      <td>8.200913</td>\n",
       "      <td>1.323921</td>\n",
       "    </tr>\n",
       "    <tr>\n",
       "      <th>min</th>\n",
       "      <td>0.010000</td>\n",
       "      <td>-3377.680935</td>\n",
       "      <td>-3116.285383</td>\n",
       "      <td>-3383.296608</td>\n",
       "      <td>-3114.338567</td>\n",
       "      <td>0.000000</td>\n",
       "    </tr>\n",
       "    <tr>\n",
       "      <th>25%</th>\n",
       "      <td>6.000000</td>\n",
       "      <td>-73.992060</td>\n",
       "      <td>40.734965</td>\n",
       "      <td>-73.991385</td>\n",
       "      <td>40.734047</td>\n",
       "      <td>1.000000</td>\n",
       "    </tr>\n",
       "    <tr>\n",
       "      <th>50%</th>\n",
       "      <td>8.500000</td>\n",
       "      <td>-73.981792</td>\n",
       "      <td>40.752695</td>\n",
       "      <td>-73.980135</td>\n",
       "      <td>40.753166</td>\n",
       "      <td>1.000000</td>\n",
       "    </tr>\n",
       "    <tr>\n",
       "      <th>75%</th>\n",
       "      <td>12.500000</td>\n",
       "      <td>-73.967095</td>\n",
       "      <td>40.767154</td>\n",
       "      <td>-73.963654</td>\n",
       "      <td>40.768129</td>\n",
       "      <td>2.000000</td>\n",
       "    </tr>\n",
       "    <tr>\n",
       "      <th>max</th>\n",
       "      <td>500.000000</td>\n",
       "      <td>2522.271325</td>\n",
       "      <td>2621.628430</td>\n",
       "      <td>45.581619</td>\n",
       "      <td>1651.553433</td>\n",
       "      <td>208.000000</td>\n",
       "    </tr>\n",
       "  </tbody>\n",
       "</table>\n",
       "</div>"
      ],
      "text/plain": [
       "         fare_amount  pickup_longitude  pickup_latitude  dropoff_longitude  \\\n",
       "count  999923.000000     999923.000000    999923.000000      999923.000000   \n",
       "mean       11.348945        -72.526826        39.929108         -72.528356   \n",
       "std         9.821201         12.057522         7.626026          11.323010   \n",
       "min         0.010000      -3377.680935     -3116.285383       -3383.296608   \n",
       "25%         6.000000        -73.992060        40.734965         -73.991385   \n",
       "50%         8.500000        -73.981792        40.752695         -73.980135   \n",
       "75%        12.500000        -73.967095        40.767154         -73.963654   \n",
       "max       500.000000       2522.271325      2621.628430          45.581619   \n",
       "\n",
       "       dropoff_latitude  passenger_count  \n",
       "count     999923.000000    999923.000000  \n",
       "mean          39.920225         1.684955  \n",
       "std            8.200913         1.323921  \n",
       "min        -3114.338567         0.000000  \n",
       "25%           40.734047         1.000000  \n",
       "50%           40.753166         1.000000  \n",
       "75%           40.768129         2.000000  \n",
       "max         1651.553433       208.000000  "
      ]
     },
     "execution_count": 14,
     "metadata": {},
     "output_type": "execute_result"
    }
   ],
   "source": [
    "train1.describe()"
   ]
  },
  {
   "cell_type": "markdown",
   "id": "b125d9bd",
   "metadata": {},
   "source": [
    "as you can see above the min value of fare_amount now is 0.\n",
    "But now we notice that the values of passenger_count are going as high as 208, which is impossible, hence now we will remove such entries."
   ]
  },
  {
   "cell_type": "code",
   "execution_count": 15,
   "id": "f7a786bf",
   "metadata": {},
   "outputs": [
    {
     "data": {
      "text/plain": [
       "<AxesSubplot:xlabel='passenger_count', ylabel='count'>"
      ]
     },
     "execution_count": 15,
     "metadata": {},
     "output_type": "execute_result"
    },
    {
     "data": {
      "image/png": "[encoded data removed]",
      "text/plain": [
       "<Figure size 432x288 with 1 Axes>"
      ]
     },
     "metadata": {
      "needs_background": "light"
     },
     "output_type": "display_data"
    }
   ],
   "source": [
    "sns.countplot(x='passenger_count',data=train1)"
   ]
  },
  {
   "cell_type": "markdown",
   "id": "1049cb71",
   "metadata": {},
   "source": [
    "clearly passenger_count = 208 is an outlier"
   ]
  },
  {
   "cell_type": "markdown",
   "id": "2e5017e2",
   "metadata": {},
   "source": [
    "The test data has max 6 passengers per taxi [as can be seen in the cell below], which seems possible. Hence, I will remove the entries with passengers more than 6."
   ]
  },
  {
   "cell_type": "code",
   "execution_count": 16,
   "id": "90dbd7f2",
   "metadata": {},
   "outputs": [
    {
     "data": {
      "text/html": [
       "<div>\n",
       "<style scoped>\n",
       "    .dataframe tbody tr th:only-of-type {\n",
       "        vertical-align: middle;\n",
       "    }\n",
       "\n",
       "    .dataframe tbody tr th {\n",
       "        vertical-align: top;\n",
       "    }\n",
       "\n",
       "    .dataframe thead th {\n",
       "        text-align: right;\n",
       "    }\n",
       "</style>\n",
       "<table border=\"1\" class=\"dataframe\">\n",
       "  <thead>\n",
       "    <tr style=\"text-align: right;\">\n",
       "      <th></th>\n",
       "      <th>pickup_longitude</th>\n",
       "      <th>pickup_latitude</th>\n",
       "      <th>dropoff_longitude</th>\n",
       "      <th>dropoff_latitude</th>\n",
       "      <th>passenger_count</th>\n",
       "    </tr>\n",
       "  </thead>\n",
       "  <tbody>\n",
       "    <tr>\n",
       "      <th>count</th>\n",
       "      <td>9914.000000</td>\n",
       "      <td>9914.000000</td>\n",
       "      <td>9914.000000</td>\n",
       "      <td>9914.000000</td>\n",
       "      <td>9914.000000</td>\n",
       "    </tr>\n",
       "    <tr>\n",
       "      <th>mean</th>\n",
       "      <td>-73.974722</td>\n",
       "      <td>40.751041</td>\n",
       "      <td>-73.973657</td>\n",
       "      <td>40.751743</td>\n",
       "      <td>1.671273</td>\n",
       "    </tr>\n",
       "    <tr>\n",
       "      <th>std</th>\n",
       "      <td>0.042774</td>\n",
       "      <td>0.033541</td>\n",
       "      <td>0.039072</td>\n",
       "      <td>0.035435</td>\n",
       "      <td>1.278747</td>\n",
       "    </tr>\n",
       "    <tr>\n",
       "      <th>min</th>\n",
       "      <td>-74.252193</td>\n",
       "      <td>40.573143</td>\n",
       "      <td>-74.263242</td>\n",
       "      <td>40.568973</td>\n",
       "      <td>1.000000</td>\n",
       "    </tr>\n",
       "    <tr>\n",
       "      <th>25%</th>\n",
       "      <td>-73.992501</td>\n",
       "      <td>40.736125</td>\n",
       "      <td>-73.991247</td>\n",
       "      <td>40.735254</td>\n",
       "      <td>1.000000</td>\n",
       "    </tr>\n",
       "    <tr>\n",
       "      <th>50%</th>\n",
       "      <td>-73.982326</td>\n",
       "      <td>40.753051</td>\n",
       "      <td>-73.980015</td>\n",
       "      <td>40.754065</td>\n",
       "      <td>1.000000</td>\n",
       "    </tr>\n",
       "    <tr>\n",
       "      <th>75%</th>\n",
       "      <td>-73.968013</td>\n",
       "      <td>40.767113</td>\n",
       "      <td>-73.964059</td>\n",
       "      <td>40.768757</td>\n",
       "      <td>2.000000</td>\n",
       "    </tr>\n",
       "    <tr>\n",
       "      <th>max</th>\n",
       "      <td>-72.986532</td>\n",
       "      <td>41.709555</td>\n",
       "      <td>-72.990963</td>\n",
       "      <td>41.696683</td>\n",
       "      <td>6.000000</td>\n",
       "    </tr>\n",
       "  </tbody>\n",
       "</table>\n",
       "</div>"
      ],
      "text/plain": [
       "       pickup_longitude  pickup_latitude  dropoff_longitude  dropoff_latitude  \\\n",
       "count       9914.000000      9914.000000        9914.000000       9914.000000   \n",
       "mean         -73.974722        40.751041         -73.973657         40.751743   \n",
       "std            0.042774         0.033541           0.039072          0.035435   \n",
       "min          -74.252193        40.573143         -74.263242         40.568973   \n",
       "25%          -73.992501        40.736125         -73.991247         40.735254   \n",
       "50%          -73.982326        40.753051         -73.980015         40.754065   \n",
       "75%          -73.968013        40.767113         -73.964059         40.768757   \n",
       "max          -72.986532        41.709555         -72.990963         41.696683   \n",
       "\n",
       "       passenger_count  \n",
       "count      9914.000000  \n",
       "mean          1.671273  \n",
       "std           1.278747  \n",
       "min           1.000000  \n",
       "25%           1.000000  \n",
       "50%           1.000000  \n",
       "75%           2.000000  \n",
       "max           6.000000  "
      ]
     },
     "execution_count": 16,
     "metadata": {},
     "output_type": "execute_result"
    }
   ],
   "source": [
    "test1.describe()"
   ]
  },
  {
   "cell_type": "code",
   "execution_count": 17,
   "id": "64b700b0",
   "metadata": {},
   "outputs": [
    {
     "data": {
      "text/html": [
       "<div>\n",
       "<style scoped>\n",
       "    .dataframe tbody tr th:only-of-type {\n",
       "        vertical-align: middle;\n",
       "    }\n",
       "\n",
       "    .dataframe tbody tr th {\n",
       "        vertical-align: top;\n",
       "    }\n",
       "\n",
       "    .dataframe thead th {\n",
       "        text-align: right;\n",
       "    }\n",
       "</style>\n",
       "<table border=\"1\" class=\"dataframe\">\n",
       "  <thead>\n",
       "    <tr style=\"text-align: right;\">\n",
       "      <th></th>\n",
       "      <th>fare_amount</th>\n",
       "      <th>pickup_longitude</th>\n",
       "      <th>pickup_latitude</th>\n",
       "      <th>dropoff_longitude</th>\n",
       "      <th>dropoff_latitude</th>\n",
       "      <th>passenger_count</th>\n",
       "    </tr>\n",
       "  </thead>\n",
       "  <tbody>\n",
       "    <tr>\n",
       "      <th>count</th>\n",
       "      <td>996367.000000</td>\n",
       "      <td>996367.000000</td>\n",
       "      <td>996367.000000</td>\n",
       "      <td>996367.000000</td>\n",
       "      <td>996367.000000</td>\n",
       "      <td>996367.000000</td>\n",
       "    </tr>\n",
       "    <tr>\n",
       "      <th>mean</th>\n",
       "      <td>11.358168</td>\n",
       "      <td>-72.526028</td>\n",
       "      <td>39.928583</td>\n",
       "      <td>-72.527717</td>\n",
       "      <td>39.919749</td>\n",
       "      <td>1.690760</td>\n",
       "    </tr>\n",
       "    <tr>\n",
       "      <th>std</th>\n",
       "      <td>9.831083</td>\n",
       "      <td>12.065813</td>\n",
       "      <td>7.633285</td>\n",
       "      <td>11.328668</td>\n",
       "      <td>8.209446</td>\n",
       "      <td>1.306192</td>\n",
       "    </tr>\n",
       "    <tr>\n",
       "      <th>min</th>\n",
       "      <td>0.010000</td>\n",
       "      <td>-3377.680935</td>\n",
       "      <td>-3116.285383</td>\n",
       "      <td>-3383.296608</td>\n",
       "      <td>-3114.338567</td>\n",
       "      <td>1.000000</td>\n",
       "    </tr>\n",
       "    <tr>\n",
       "      <th>25%</th>\n",
       "      <td>6.000000</td>\n",
       "      <td>-73.992060</td>\n",
       "      <td>40.734960</td>\n",
       "      <td>-73.991383</td>\n",
       "      <td>40.734043</td>\n",
       "      <td>1.000000</td>\n",
       "    </tr>\n",
       "    <tr>\n",
       "      <th>50%</th>\n",
       "      <td>8.500000</td>\n",
       "      <td>-73.981792</td>\n",
       "      <td>40.752692</td>\n",
       "      <td>-73.980134</td>\n",
       "      <td>40.753163</td>\n",
       "      <td>1.000000</td>\n",
       "    </tr>\n",
       "    <tr>\n",
       "      <th>75%</th>\n",
       "      <td>12.500000</td>\n",
       "      <td>-73.967092</td>\n",
       "      <td>40.767152</td>\n",
       "      <td>-73.963650</td>\n",
       "      <td>40.768128</td>\n",
       "      <td>2.000000</td>\n",
       "    </tr>\n",
       "    <tr>\n",
       "      <th>max</th>\n",
       "      <td>500.000000</td>\n",
       "      <td>2522.271325</td>\n",
       "      <td>2621.628430</td>\n",
       "      <td>45.581619</td>\n",
       "      <td>1651.553433</td>\n",
       "      <td>6.000000</td>\n",
       "    </tr>\n",
       "  </tbody>\n",
       "</table>\n",
       "</div>"
      ],
      "text/plain": [
       "         fare_amount  pickup_longitude  pickup_latitude  dropoff_longitude  \\\n",
       "count  996367.000000     996367.000000    996367.000000      996367.000000   \n",
       "mean       11.358168        -72.526028        39.928583         -72.527717   \n",
       "std         9.831083         12.065813         7.633285          11.328668   \n",
       "min         0.010000      -3377.680935     -3116.285383       -3383.296608   \n",
       "25%         6.000000        -73.992060        40.734960         -73.991383   \n",
       "50%         8.500000        -73.981792        40.752692         -73.980134   \n",
       "75%        12.500000        -73.967092        40.767152         -73.963650   \n",
       "max       500.000000       2522.271325      2621.628430          45.581619   \n",
       "\n",
       "       dropoff_latitude  passenger_count  \n",
       "count     996367.000000    996367.000000  \n",
       "mean          39.919749         1.690760  \n",
       "std            8.209446         1.306192  \n",
       "min        -3114.338567         1.000000  \n",
       "25%           40.734043         1.000000  \n",
       "50%           40.753163         1.000000  \n",
       "75%           40.768128         2.000000  \n",
       "max         1651.553433         6.000000  "
      ]
     },
     "execution_count": 17,
     "metadata": {},
     "output_type": "execute_result"
    }
   ],
   "source": [
    "train1=train1.drop(train1[train1['passenger_count']>6].index) #removed the entries with passenger_count > 6\n",
    "train1=train1.drop(train1[train1['passenger_count']<=0].index) \n",
    "train1.describe()"
   ]
  },
  {
   "cell_type": "markdown",
   "id": "d863dd7e",
   "metadata": {},
   "source": [
    "Now we see a new problem. Latitude ranges from -90 to +90. Longitude ranges from -180 to +180. But the training set has entries with data points outside these ranges."
   ]
  },
  {
   "cell_type": "code",
   "execution_count": 18,
   "id": "7680bf29",
   "metadata": {},
   "outputs": [
    {
     "data": {
      "text/html": [
       "<div>\n",
       "<style scoped>\n",
       "    .dataframe tbody tr th:only-of-type {\n",
       "        vertical-align: middle;\n",
       "    }\n",
       "\n",
       "    .dataframe tbody tr th {\n",
       "        vertical-align: top;\n",
       "    }\n",
       "\n",
       "    .dataframe thead th {\n",
       "        text-align: right;\n",
       "    }\n",
       "</style>\n",
       "<table border=\"1\" class=\"dataframe\">\n",
       "  <thead>\n",
       "    <tr style=\"text-align: right;\">\n",
       "      <th></th>\n",
       "      <th>fare_amount</th>\n",
       "      <th>pickup_longitude</th>\n",
       "      <th>pickup_latitude</th>\n",
       "      <th>dropoff_longitude</th>\n",
       "      <th>dropoff_latitude</th>\n",
       "      <th>passenger_count</th>\n",
       "    </tr>\n",
       "  </thead>\n",
       "  <tbody>\n",
       "    <tr>\n",
       "      <th>count</th>\n",
       "      <td>996347.000000</td>\n",
       "      <td>996347.000000</td>\n",
       "      <td>996347.000000</td>\n",
       "      <td>996347.000000</td>\n",
       "      <td>996347.000000</td>\n",
       "      <td>996347.000000</td>\n",
       "    </tr>\n",
       "    <tr>\n",
       "      <th>mean</th>\n",
       "      <td>11.358147</td>\n",
       "      <td>-72.524663</td>\n",
       "      <td>39.926295</td>\n",
       "      <td>-72.521159</td>\n",
       "      <td>39.925577</td>\n",
       "      <td>1.690769</td>\n",
       "    </tr>\n",
       "    <tr>\n",
       "      <th>std</th>\n",
       "      <td>9.831112</td>\n",
       "      <td>10.696864</td>\n",
       "      <td>6.092049</td>\n",
       "      <td>10.629572</td>\n",
       "      <td>6.095901</td>\n",
       "      <td>1.306197</td>\n",
       "    </tr>\n",
       "    <tr>\n",
       "      <th>min</th>\n",
       "      <td>0.010000</td>\n",
       "      <td>-1452.988333</td>\n",
       "      <td>-74.016587</td>\n",
       "      <td>-1329.621332</td>\n",
       "      <td>-74.035197</td>\n",
       "      <td>1.000000</td>\n",
       "    </tr>\n",
       "    <tr>\n",
       "      <th>25%</th>\n",
       "      <td>6.000000</td>\n",
       "      <td>-73.992060</td>\n",
       "      <td>40.734961</td>\n",
       "      <td>-73.991383</td>\n",
       "      <td>40.734043</td>\n",
       "      <td>1.000000</td>\n",
       "    </tr>\n",
       "    <tr>\n",
       "      <th>50%</th>\n",
       "      <td>8.500000</td>\n",
       "      <td>-73.981792</td>\n",
       "      <td>40.752692</td>\n",
       "      <td>-73.980134</td>\n",
       "      <td>40.753163</td>\n",
       "      <td>1.000000</td>\n",
       "    </tr>\n",
       "    <tr>\n",
       "      <th>75%</th>\n",
       "      <td>12.500000</td>\n",
       "      <td>-73.967092</td>\n",
       "      <td>40.767152</td>\n",
       "      <td>-73.963650</td>\n",
       "      <td>40.768127</td>\n",
       "      <td>2.000000</td>\n",
       "    </tr>\n",
       "    <tr>\n",
       "      <th>max</th>\n",
       "      <td>500.000000</td>\n",
       "      <td>40.850357</td>\n",
       "      <td>69.400000</td>\n",
       "      <td>45.581619</td>\n",
       "      <td>81.510177</td>\n",
       "      <td>6.000000</td>\n",
       "    </tr>\n",
       "  </tbody>\n",
       "</table>\n",
       "</div>"
      ],
      "text/plain": [
       "         fare_amount  pickup_longitude  pickup_latitude  dropoff_longitude  \\\n",
       "count  996347.000000     996347.000000    996347.000000      996347.000000   \n",
       "mean       11.358147        -72.524663        39.926295         -72.521159   \n",
       "std         9.831112         10.696864         6.092049          10.629572   \n",
       "min         0.010000      -1452.988333       -74.016587       -1329.621332   \n",
       "25%         6.000000        -73.992060        40.734961         -73.991383   \n",
       "50%         8.500000        -73.981792        40.752692         -73.980134   \n",
       "75%        12.500000        -73.967092        40.767152         -73.963650   \n",
       "max       500.000000         40.850357        69.400000          45.581619   \n",
       "\n",
       "       dropoff_latitude  passenger_count  \n",
       "count     996347.000000    996347.000000  \n",
       "mean          39.925577         1.690769  \n",
       "std            6.095901         1.306197  \n",
       "min          -74.035197         1.000000  \n",
       "25%           40.734043         1.000000  \n",
       "50%           40.753163         1.000000  \n",
       "75%           40.768127         2.000000  \n",
       "max           81.510177         6.000000  "
      ]
     },
     "execution_count": 18,
     "metadata": {},
     "output_type": "execute_result"
    }
   ],
   "source": [
    "train1=train1.drop(train1[train1['pickup_latitude']>90].index)\n",
    "train1=train1.drop(train1[train1['pickup_latitude']<-90].index)\n",
    "train1=train1.drop(train1[train1['dropoff_latitude']>90].index)\n",
    "train1=train1.drop(train1[train1['dropoff_latitude']<-90].index)\n",
    "train1.describe()\n",
    "#deleted all entries with either pickup_latitude or dropoff_latitude out of range [-90,+90] \n",
    "#removal of outliers"
   ]
  },
  {
   "cell_type": "code",
   "execution_count": 19,
   "id": "e17cd87c",
   "metadata": {},
   "outputs": [
    {
     "data": {
      "text/html": [
       "<div>\n",
       "<style scoped>\n",
       "    .dataframe tbody tr th:only-of-type {\n",
       "        vertical-align: middle;\n",
       "    }\n",
       "\n",
       "    .dataframe tbody tr th {\n",
       "        vertical-align: top;\n",
       "    }\n",
       "\n",
       "    .dataframe thead th {\n",
       "        text-align: right;\n",
       "    }\n",
       "</style>\n",
       "<table border=\"1\" class=\"dataframe\">\n",
       "  <thead>\n",
       "    <tr style=\"text-align: right;\">\n",
       "      <th></th>\n",
       "      <th>fare_amount</th>\n",
       "      <th>pickup_longitude</th>\n",
       "      <th>pickup_latitude</th>\n",
       "      <th>dropoff_longitude</th>\n",
       "      <th>dropoff_latitude</th>\n",
       "      <th>passenger_count</th>\n",
       "    </tr>\n",
       "  </thead>\n",
       "  <tbody>\n",
       "    <tr>\n",
       "      <th>count</th>\n",
       "      <td>996327.000000</td>\n",
       "      <td>996327.000000</td>\n",
       "      <td>996327.000000</td>\n",
       "      <td>996327.000000</td>\n",
       "      <td>996327.000000</td>\n",
       "      <td>996327.000000</td>\n",
       "    </tr>\n",
       "    <tr>\n",
       "      <th>mean</th>\n",
       "      <td>11.358141</td>\n",
       "      <td>-72.516598</td>\n",
       "      <td>39.926279</td>\n",
       "      <td>-72.515035</td>\n",
       "      <td>39.925683</td>\n",
       "      <td>1.690758</td>\n",
       "    </tr>\n",
       "    <tr>\n",
       "      <th>std</th>\n",
       "      <td>9.831069</td>\n",
       "      <td>10.396380</td>\n",
       "      <td>6.092109</td>\n",
       "      <td>10.398391</td>\n",
       "      <td>6.095567</td>\n",
       "      <td>1.306180</td>\n",
       "    </tr>\n",
       "    <tr>\n",
       "      <th>min</th>\n",
       "      <td>0.010000</td>\n",
       "      <td>-128.175950</td>\n",
       "      <td>-74.016587</td>\n",
       "      <td>-121.391248</td>\n",
       "      <td>-74.035197</td>\n",
       "      <td>1.000000</td>\n",
       "    </tr>\n",
       "    <tr>\n",
       "      <th>25%</th>\n",
       "      <td>6.000000</td>\n",
       "      <td>-73.992059</td>\n",
       "      <td>40.734960</td>\n",
       "      <td>-73.991383</td>\n",
       "      <td>40.734043</td>\n",
       "      <td>1.000000</td>\n",
       "    </tr>\n",
       "    <tr>\n",
       "      <th>50%</th>\n",
       "      <td>8.500000</td>\n",
       "      <td>-73.981792</td>\n",
       "      <td>40.752692</td>\n",
       "      <td>-73.980134</td>\n",
       "      <td>40.753163</td>\n",
       "      <td>1.000000</td>\n",
       "    </tr>\n",
       "    <tr>\n",
       "      <th>75%</th>\n",
       "      <td>12.500000</td>\n",
       "      <td>-73.967092</td>\n",
       "      <td>40.767152</td>\n",
       "      <td>-73.963650</td>\n",
       "      <td>40.768127</td>\n",
       "      <td>2.000000</td>\n",
       "    </tr>\n",
       "    <tr>\n",
       "      <th>max</th>\n",
       "      <td>500.000000</td>\n",
       "      <td>40.850357</td>\n",
       "      <td>69.400000</td>\n",
       "      <td>45.581619</td>\n",
       "      <td>81.510177</td>\n",
       "      <td>6.000000</td>\n",
       "    </tr>\n",
       "  </tbody>\n",
       "</table>\n",
       "</div>"
      ],
      "text/plain": [
       "         fare_amount  pickup_longitude  pickup_latitude  dropoff_longitude  \\\n",
       "count  996327.000000     996327.000000    996327.000000      996327.000000   \n",
       "mean       11.358141        -72.516598        39.926279         -72.515035   \n",
       "std         9.831069         10.396380         6.092109          10.398391   \n",
       "min         0.010000       -128.175950       -74.016587        -121.391248   \n",
       "25%         6.000000        -73.992059        40.734960         -73.991383   \n",
       "50%         8.500000        -73.981792        40.752692         -73.980134   \n",
       "75%        12.500000        -73.967092        40.767152         -73.963650   \n",
       "max       500.000000         40.850357        69.400000          45.581619   \n",
       "\n",
       "       dropoff_latitude  passenger_count  \n",
       "count     996327.000000    996327.000000  \n",
       "mean          39.925683         1.690758  \n",
       "std            6.095567         1.306180  \n",
       "min          -74.035197         1.000000  \n",
       "25%           40.734043         1.000000  \n",
       "50%           40.753163         1.000000  \n",
       "75%           40.768127         2.000000  \n",
       "max           81.510177         6.000000  "
      ]
     },
     "execution_count": 19,
     "metadata": {},
     "output_type": "execute_result"
    }
   ],
   "source": [
    "train1=train1.drop(train1[train1['pickup_longitude']>180].index)\n",
    "train1=train1.drop(train1[train1['pickup_longitude']<-180].index)\n",
    "train1=train1.drop(train1[train1['dropoff_longitude']>180].index)\n",
    "train1=train1.drop(train1[train1['dropoff_longitude']<-180].index)\n",
    "train1.describe()\n",
    "#deleted all entries with either pickup_longitude or dropoff_longitude out of range [-180,+180]\n",
    "#removal of outliers"
   ]
  },
  {
   "cell_type": "markdown",
   "id": "a6d25163",
   "metadata": {},
   "source": [
    "Now the columns we have are key , fare_amount, etc. But the column key does not really contribute anything to the learning of our model."
   ]
  },
  {
   "cell_type": "markdown",
   "id": "a67a435b",
   "metadata": {},
   "source": [
    "So we will drop the feature/column of key from our train and test data."
   ]
  },
  {
   "cell_type": "code",
   "execution_count": 20,
   "id": "fe13ce5f",
   "metadata": {},
   "outputs": [
    {
     "name": "stdout",
     "output_type": "stream",
     "text": [
      "<class 'pandas.core.frame.DataFrame'>\n",
      "Int64Index: 996327 entries, 0 to 999999\n",
      "Data columns (total 7 columns):\n",
      " #   Column             Non-Null Count   Dtype  \n",
      "---  ------             --------------   -----  \n",
      " 0   fare_amount        996327 non-null  float64\n",
      " 1   pickup_datetime    996327 non-null  object \n",
      " 2   pickup_longitude   996327 non-null  float64\n",
      " 3   pickup_latitude    996327 non-null  float64\n",
      " 4   dropoff_longitude  996327 non-null  float64\n",
      " 5   dropoff_latitude   996327 non-null  float64\n",
      " 6   passenger_count    996327 non-null  int64  \n",
      "dtypes: float64(5), int64(1), object(1)\n",
      "memory usage: 60.8+ MB\n"
     ]
    }
   ],
   "source": [
    "train1=train1.drop(\"key\",axis=\"columns\")\n",
    "train1.info()"
   ]
  },
  {
   "cell_type": "code",
   "execution_count": 21,
   "id": "f365f259",
   "metadata": {},
   "outputs": [
    {
     "name": "stdout",
     "output_type": "stream",
     "text": [
      "<class 'pandas.core.frame.DataFrame'>\n",
      "RangeIndex: 9914 entries, 0 to 9913\n",
      "Data columns (total 6 columns):\n",
      " #   Column             Non-Null Count  Dtype  \n",
      "---  ------             --------------  -----  \n",
      " 0   pickup_datetime    9914 non-null   object \n",
      " 1   pickup_longitude   9914 non-null   float64\n",
      " 2   pickup_latitude    9914 non-null   float64\n",
      " 3   dropoff_longitude  9914 non-null   float64\n",
      " 4   dropoff_latitude   9914 non-null   float64\n",
      " 5   passenger_count    9914 non-null   int64  \n",
      "dtypes: float64(4), int64(1), object(1)\n",
      "memory usage: 464.8+ KB\n"
     ]
    }
   ],
   "source": [
    "test1=test1.drop(\"key\",axis=\"columns\")\n",
    "test1.info()"
   ]
  },
  {
   "cell_type": "markdown",
   "id": "ab08188f",
   "metadata": {},
   "source": [
    "Now we will split the pickup dae and time into separate columns because year, month, day, time, etc. do play an important role in deciding the fares"
   ]
  },
  {
   "cell_type": "code",
   "execution_count": 22,
   "id": "2e3ef512",
   "metadata": {},
   "outputs": [],
   "source": [
    "train1['year']=pd.DatetimeIndex(train1['pickup_datetime']).year"
   ]
  },
  {
   "cell_type": "code",
   "execution_count": 23,
   "id": "9588944b",
   "metadata": {},
   "outputs": [],
   "source": [
    "train1['month']=pd.DatetimeIndex(train1['pickup_datetime']).month"
   ]
  },
  {
   "cell_type": "code",
   "execution_count": 25,
   "id": "b5a75b79",
   "metadata": {},
   "outputs": [],
   "source": [
    "train1['day']=pd.DatetimeIndex(train1['pickup_datetime']).day"
   ]
  },
  {
   "cell_type": "code",
   "execution_count": 26,
   "id": "a9ee67e9",
   "metadata": {},
   "outputs": [],
   "source": [
    "# import time\n",
    "# st=time.time()\n",
    "train1['hour']=pd.DatetimeIndex(train1['pickup_datetime']).hour\n",
    "# print(time.time()-st)"
   ]
  },
  {
   "cell_type": "code",
   "execution_count": 27,
   "id": "8fa2d2db",
   "metadata": {},
   "outputs": [],
   "source": [
    "train1['minute']=pd.DatetimeIndex(train1['pickup_datetime']).minute"
   ]
  },
  {
   "cell_type": "code",
   "execution_count": 28,
   "id": "a0607889",
   "metadata": {},
   "outputs": [],
   "source": [
    "test1['year']=pd.DatetimeIndex(test1['pickup_datetime']).year"
   ]
  },
  {
   "cell_type": "code",
   "execution_count": 29,
   "id": "f9ed0755",
   "metadata": {},
   "outputs": [],
   "source": [
    "test1['month']=pd.DatetimeIndex(test1['pickup_datetime']).month"
   ]
  },
  {
   "cell_type": "code",
   "execution_count": 30,
   "id": "b150cc3c",
   "metadata": {},
   "outputs": [],
   "source": [
    "test1['day']=pd.DatetimeIndex(test1['pickup_datetime']).day"
   ]
  },
  {
   "cell_type": "code",
   "execution_count": 31,
   "id": "e1664728",
   "metadata": {},
   "outputs": [],
   "source": [
    "test1['hour']=pd.DatetimeIndex(test1['pickup_datetime']).hour"
   ]
  },
  {
   "cell_type": "code",
   "execution_count": 32,
   "id": "fc949a25",
   "metadata": {},
   "outputs": [],
   "source": [
    "test1['minute']=pd.DatetimeIndex(test1['pickup_datetime']).minute"
   ]
  },
  {
   "cell_type": "markdown",
   "id": "a64a211f",
   "metadata": {},
   "source": [
    "Now, we don't need the pickup_datetime column anymore, also we will drop the minute column to avoid making the model too complex "
   ]
  },
  {
   "cell_type": "markdown",
   "id": "351ba5ae",
   "metadata": {},
   "source": [
    "let us check how strongly the independent variables affect the target variable, using the correlation coefficient"
   ]
  },
  {
   "cell_type": "code",
   "execution_count": 33,
   "id": "0630c506",
   "metadata": {},
   "outputs": [],
   "source": [
    "train1.to_csv('train2.csv', index = False) #saving all the progress till now "
   ]
  },
  {
   "cell_type": "code",
   "execution_count": 34,
   "id": "4919bbf6",
   "metadata": {},
   "outputs": [],
   "source": [
    "train2=pd.read_csv('train2.csv')"
   ]
  },
  {
   "cell_type": "code",
   "execution_count": 35,
   "id": "621cda9b",
   "metadata": {},
   "outputs": [
    {
     "data": {
      "text/html": [
       "<div>\n",
       "<style scoped>\n",
       "    .dataframe tbody tr th:only-of-type {\n",
       "        vertical-align: middle;\n",
       "    }\n",
       "\n",
       "    .dataframe tbody tr th {\n",
       "        vertical-align: top;\n",
       "    }\n",
       "\n",
       "    .dataframe thead th {\n",
       "        text-align: right;\n",
       "    }\n",
       "</style>\n",
       "<table border=\"1\" class=\"dataframe\">\n",
       "  <thead>\n",
       "    <tr style=\"text-align: right;\">\n",
       "      <th></th>\n",
       "      <th>fare_amount</th>\n",
       "      <th>pickup_datetime</th>\n",
       "      <th>pickup_longitude</th>\n",
       "      <th>pickup_latitude</th>\n",
       "      <th>dropoff_longitude</th>\n",
       "      <th>dropoff_latitude</th>\n",
       "      <th>passenger_count</th>\n",
       "      <th>year</th>\n",
       "      <th>month</th>\n",
       "      <th>day</th>\n",
       "      <th>hour</th>\n",
       "      <th>minute</th>\n",
       "    </tr>\n",
       "  </thead>\n",
       "  <tbody>\n",
       "    <tr>\n",
       "      <th>0</th>\n",
       "      <td>4.5</td>\n",
       "      <td>2009-06-15 17:26:21 UTC</td>\n",
       "      <td>-73.844311</td>\n",
       "      <td>40.721319</td>\n",
       "      <td>-73.841610</td>\n",
       "      <td>40.712278</td>\n",
       "      <td>1</td>\n",
       "      <td>2009</td>\n",
       "      <td>6</td>\n",
       "      <td>15</td>\n",
       "      <td>17</td>\n",
       "      <td>26</td>\n",
       "    </tr>\n",
       "    <tr>\n",
       "      <th>1</th>\n",
       "      <td>16.9</td>\n",
       "      <td>2010-01-05 16:52:16 UTC</td>\n",
       "      <td>-74.016048</td>\n",
       "      <td>40.711303</td>\n",
       "      <td>-73.979268</td>\n",
       "      <td>40.782004</td>\n",
       "      <td>1</td>\n",
       "      <td>2010</td>\n",
       "      <td>1</td>\n",
       "      <td>5</td>\n",
       "      <td>16</td>\n",
       "      <td>52</td>\n",
       "    </tr>\n",
       "    <tr>\n",
       "      <th>2</th>\n",
       "      <td>5.7</td>\n",
       "      <td>2011-08-18 00:35:00 UTC</td>\n",
       "      <td>-73.982738</td>\n",
       "      <td>40.761270</td>\n",
       "      <td>-73.991242</td>\n",
       "      <td>40.750562</td>\n",
       "      <td>2</td>\n",
       "      <td>2011</td>\n",
       "      <td>8</td>\n",
       "      <td>18</td>\n",
       "      <td>0</td>\n",
       "      <td>35</td>\n",
       "    </tr>\n",
       "    <tr>\n",
       "      <th>3</th>\n",
       "      <td>7.7</td>\n",
       "      <td>2012-04-21 04:30:42 UTC</td>\n",
       "      <td>-73.987130</td>\n",
       "      <td>40.733143</td>\n",
       "      <td>-73.991567</td>\n",
       "      <td>40.758092</td>\n",
       "      <td>1</td>\n",
       "      <td>2012</td>\n",
       "      <td>4</td>\n",
       "      <td>21</td>\n",
       "      <td>4</td>\n",
       "      <td>30</td>\n",
       "    </tr>\n",
       "    <tr>\n",
       "      <th>4</th>\n",
       "      <td>5.3</td>\n",
       "      <td>2010-03-09 07:51:00 UTC</td>\n",
       "      <td>-73.968095</td>\n",
       "      <td>40.768008</td>\n",
       "      <td>-73.956655</td>\n",
       "      <td>40.783762</td>\n",
       "      <td>1</td>\n",
       "      <td>2010</td>\n",
       "      <td>3</td>\n",
       "      <td>9</td>\n",
       "      <td>7</td>\n",
       "      <td>51</td>\n",
       "    </tr>\n",
       "  </tbody>\n",
       "</table>\n",
       "</div>"
      ],
      "text/plain": [
       "   fare_amount          pickup_datetime  pickup_longitude  pickup_latitude  \\\n",
       "0          4.5  2009-06-15 17:26:21 UTC        -73.844311        40.721319   \n",
       "1         16.9  2010-01-05 16:52:16 UTC        -74.016048        40.711303   \n",
       "2          5.7  2011-08-18 00:35:00 UTC        -73.982738        40.761270   \n",
       "3          7.7  2012-04-21 04:30:42 UTC        -73.987130        40.733143   \n",
       "4          5.3  2010-03-09 07:51:00 UTC        -73.968095        40.768008   \n",
       "\n",
       "   dropoff_longitude  dropoff_latitude  passenger_count  year  month  day  \\\n",
       "0         -73.841610         40.712278                1  2009      6   15   \n",
       "1         -73.979268         40.782004                1  2010      1    5   \n",
       "2         -73.991242         40.750562                2  2011      8   18   \n",
       "3         -73.991567         40.758092                1  2012      4   21   \n",
       "4         -73.956655         40.783762                1  2010      3    9   \n",
       "\n",
       "   hour  minute  \n",
       "0    17      26  \n",
       "1    16      52  \n",
       "2     0      35  \n",
       "3     4      30  \n",
       "4     7      51  "
      ]
     },
     "execution_count": 35,
     "metadata": {},
     "output_type": "execute_result"
    }
   ],
   "source": [
    "train2.head()"
   ]
  },
  {
   "cell_type": "code",
   "execution_count": 36,
   "id": "fba7bc97",
   "metadata": {},
   "outputs": [],
   "source": [
    "def dayofweek(stringlist):\n",
    "    d={}\n",
    "    d['Monday']=0\n",
    "    d['Tuesday']=1\n",
    "    d['Wednesday']=2\n",
    "    d['Thursday']=3\n",
    "    d['Friday']=4\n",
    "    d['Saturday']=5\n",
    "    d['Sunday']=6\n",
    "    ans=[]\n",
    "    for stri in stringlist:\n",
    "        ans.append(d[stri])\n",
    "    return ans"
   ]
  },
  {
   "cell_type": "markdown",
   "id": "1e60d6c3",
   "metadata": {},
   "source": [
    "we have the day of week function ready, just need to figure out how to pass out the values of year, month and day for each row."
   ]
  },
  {
   "cell_type": "code",
   "execution_count": 37,
   "id": "77acec38",
   "metadata": {},
   "outputs": [],
   "source": [
    "train2['day_of_week']=pd.to_datetime(train2[['year', 'month', 'day']]).dt.day_name() \n",
    "#calculating if monday, tuesday, wednesday... from date, and storing in day_of_week column"
   ]
  },
  {
   "cell_type": "code",
   "execution_count": 38,
   "id": "064fd500",
   "metadata": {},
   "outputs": [
    {
     "data": {
      "text/html": [
       "<div>\n",
       "<style scoped>\n",
       "    .dataframe tbody tr th:only-of-type {\n",
       "        vertical-align: middle;\n",
       "    }\n",
       "\n",
       "    .dataframe tbody tr th {\n",
       "        vertical-align: top;\n",
       "    }\n",
       "\n",
       "    .dataframe thead th {\n",
       "        text-align: right;\n",
       "    }\n",
       "</style>\n",
       "<table border=\"1\" class=\"dataframe\">\n",
       "  <thead>\n",
       "    <tr style=\"text-align: right;\">\n",
       "      <th></th>\n",
       "      <th>fare_amount</th>\n",
       "      <th>pickup_datetime</th>\n",
       "      <th>pickup_longitude</th>\n",
       "      <th>pickup_latitude</th>\n",
       "      <th>dropoff_longitude</th>\n",
       "      <th>dropoff_latitude</th>\n",
       "      <th>passenger_count</th>\n",
       "      <th>year</th>\n",
       "      <th>month</th>\n",
       "      <th>day</th>\n",
       "      <th>hour</th>\n",
       "      <th>minute</th>\n",
       "      <th>day_of_week</th>\n",
       "    </tr>\n",
       "  </thead>\n",
       "  <tbody>\n",
       "    <tr>\n",
       "      <th>0</th>\n",
       "      <td>4.5</td>\n",
       "      <td>2009-06-15 17:26:21 UTC</td>\n",
       "      <td>-73.844311</td>\n",
       "      <td>40.721319</td>\n",
       "      <td>-73.841610</td>\n",
       "      <td>40.712278</td>\n",
       "      <td>1</td>\n",
       "      <td>2009</td>\n",
       "      <td>6</td>\n",
       "      <td>15</td>\n",
       "      <td>17</td>\n",
       "      <td>26</td>\n",
       "      <td>Monday</td>\n",
       "    </tr>\n",
       "    <tr>\n",
       "      <th>1</th>\n",
       "      <td>16.9</td>\n",
       "      <td>2010-01-05 16:52:16 UTC</td>\n",
       "      <td>-74.016048</td>\n",
       "      <td>40.711303</td>\n",
       "      <td>-73.979268</td>\n",
       "      <td>40.782004</td>\n",
       "      <td>1</td>\n",
       "      <td>2010</td>\n",
       "      <td>1</td>\n",
       "      <td>5</td>\n",
       "      <td>16</td>\n",
       "      <td>52</td>\n",
       "      <td>Tuesday</td>\n",
       "    </tr>\n",
       "    <tr>\n",
       "      <th>2</th>\n",
       "      <td>5.7</td>\n",
       "      <td>2011-08-18 00:35:00 UTC</td>\n",
       "      <td>-73.982738</td>\n",
       "      <td>40.761270</td>\n",
       "      <td>-73.991242</td>\n",
       "      <td>40.750562</td>\n",
       "      <td>2</td>\n",
       "      <td>2011</td>\n",
       "      <td>8</td>\n",
       "      <td>18</td>\n",
       "      <td>0</td>\n",
       "      <td>35</td>\n",
       "      <td>Thursday</td>\n",
       "    </tr>\n",
       "    <tr>\n",
       "      <th>3</th>\n",
       "      <td>7.7</td>\n",
       "      <td>2012-04-21 04:30:42 UTC</td>\n",
       "      <td>-73.987130</td>\n",
       "      <td>40.733143</td>\n",
       "      <td>-73.991567</td>\n",
       "      <td>40.758092</td>\n",
       "      <td>1</td>\n",
       "      <td>2012</td>\n",
       "      <td>4</td>\n",
       "      <td>21</td>\n",
       "      <td>4</td>\n",
       "      <td>30</td>\n",
       "      <td>Saturday</td>\n",
       "    </tr>\n",
       "    <tr>\n",
       "      <th>4</th>\n",
       "      <td>5.3</td>\n",
       "      <td>2010-03-09 07:51:00 UTC</td>\n",
       "      <td>-73.968095</td>\n",
       "      <td>40.768008</td>\n",
       "      <td>-73.956655</td>\n",
       "      <td>40.783762</td>\n",
       "      <td>1</td>\n",
       "      <td>2010</td>\n",
       "      <td>3</td>\n",
       "      <td>9</td>\n",
       "      <td>7</td>\n",
       "      <td>51</td>\n",
       "      <td>Tuesday</td>\n",
       "    </tr>\n",
       "  </tbody>\n",
       "</table>\n",
       "</div>"
      ],
      "text/plain": [
       "   fare_amount          pickup_datetime  pickup_longitude  pickup_latitude  \\\n",
       "0          4.5  2009-06-15 17:26:21 UTC        -73.844311        40.721319   \n",
       "1         16.9  2010-01-05 16:52:16 UTC        -74.016048        40.711303   \n",
       "2          5.7  2011-08-18 00:35:00 UTC        -73.982738        40.761270   \n",
       "3          7.7  2012-04-21 04:30:42 UTC        -73.987130        40.733143   \n",
       "4          5.3  2010-03-09 07:51:00 UTC        -73.968095        40.768008   \n",
       "\n",
       "   dropoff_longitude  dropoff_latitude  passenger_count  year  month  day  \\\n",
       "0         -73.841610         40.712278                1  2009      6   15   \n",
       "1         -73.979268         40.782004                1  2010      1    5   \n",
       "2         -73.991242         40.750562                2  2011      8   18   \n",
       "3         -73.991567         40.758092                1  2012      4   21   \n",
       "4         -73.956655         40.783762                1  2010      3    9   \n",
       "\n",
       "   hour  minute day_of_week  \n",
       "0    17      26      Monday  \n",
       "1    16      52     Tuesday  \n",
       "2     0      35    Thursday  \n",
       "3     4      30    Saturday  \n",
       "4     7      51     Tuesday  "
      ]
     },
     "execution_count": 38,
     "metadata": {},
     "output_type": "execute_result"
    }
   ],
   "source": [
    "train2.head()"
   ]
  },
  {
   "cell_type": "markdown",
   "id": "d4c6c2de",
   "metadata": {},
   "source": [
    "our day_of_week is categorical feature with string values currently. It will be more helpful in analysis if we convert it to numerical values"
   ]
  },
  {
   "cell_type": "code",
   "execution_count": 39,
   "id": "e6e1ea7c",
   "metadata": {},
   "outputs": [],
   "source": [
    "string_day_of_week=train2['day_of_week'].tolist() #store all days in this list\n",
    "numerical_day_of_week= dayofweek(string_day_of_week) #send the list to the function\n",
    "train2=train2.assign(day_of_week=numerical_day_of_week) #put the numeric values instead of monday, tuesday..."
   ]
  },
  {
   "cell_type": "code",
   "execution_count": 40,
   "id": "cdf1cf35",
   "metadata": {
    "scrolled": true
   },
   "outputs": [
    {
     "data": {
      "text/html": [
       "<div>\n",
       "<style scoped>\n",
       "    .dataframe tbody tr th:only-of-type {\n",
       "        vertical-align: middle;\n",
       "    }\n",
       "\n",
       "    .dataframe tbody tr th {\n",
       "        vertical-align: top;\n",
       "    }\n",
       "\n",
       "    .dataframe thead th {\n",
       "        text-align: right;\n",
       "    }\n",
       "</style>\n",
       "<table border=\"1\" class=\"dataframe\">\n",
       "  <thead>\n",
       "    <tr style=\"text-align: right;\">\n",
       "      <th></th>\n",
       "      <th>fare_amount</th>\n",
       "      <th>pickup_datetime</th>\n",
       "      <th>pickup_longitude</th>\n",
       "      <th>pickup_latitude</th>\n",
       "      <th>dropoff_longitude</th>\n",
       "      <th>dropoff_latitude</th>\n",
       "      <th>passenger_count</th>\n",
       "      <th>year</th>\n",
       "      <th>month</th>\n",
       "      <th>day</th>\n",
       "      <th>hour</th>\n",
       "      <th>minute</th>\n",
       "      <th>day_of_week</th>\n",
       "    </tr>\n",
       "  </thead>\n",
       "  <tbody>\n",
       "    <tr>\n",
       "      <th>0</th>\n",
       "      <td>4.5</td>\n",
       "      <td>2009-06-15 17:26:21 UTC</td>\n",
       "      <td>-73.844311</td>\n",
       "      <td>40.721319</td>\n",
       "      <td>-73.841610</td>\n",
       "      <td>40.712278</td>\n",
       "      <td>1</td>\n",
       "      <td>2009</td>\n",
       "      <td>6</td>\n",
       "      <td>15</td>\n",
       "      <td>17</td>\n",
       "      <td>26</td>\n",
       "      <td>0</td>\n",
       "    </tr>\n",
       "    <tr>\n",
       "      <th>1</th>\n",
       "      <td>16.9</td>\n",
       "      <td>2010-01-05 16:52:16 UTC</td>\n",
       "      <td>-74.016048</td>\n",
       "      <td>40.711303</td>\n",
       "      <td>-73.979268</td>\n",
       "      <td>40.782004</td>\n",
       "      <td>1</td>\n",
       "      <td>2010</td>\n",
       "      <td>1</td>\n",
       "      <td>5</td>\n",
       "      <td>16</td>\n",
       "      <td>52</td>\n",
       "      <td>1</td>\n",
       "    </tr>\n",
       "    <tr>\n",
       "      <th>2</th>\n",
       "      <td>5.7</td>\n",
       "      <td>2011-08-18 00:35:00 UTC</td>\n",
       "      <td>-73.982738</td>\n",
       "      <td>40.761270</td>\n",
       "      <td>-73.991242</td>\n",
       "      <td>40.750562</td>\n",
       "      <td>2</td>\n",
       "      <td>2011</td>\n",
       "      <td>8</td>\n",
       "      <td>18</td>\n",
       "      <td>0</td>\n",
       "      <td>35</td>\n",
       "      <td>3</td>\n",
       "    </tr>\n",
       "    <tr>\n",
       "      <th>3</th>\n",
       "      <td>7.7</td>\n",
       "      <td>2012-04-21 04:30:42 UTC</td>\n",
       "      <td>-73.987130</td>\n",
       "      <td>40.733143</td>\n",
       "      <td>-73.991567</td>\n",
       "      <td>40.758092</td>\n",
       "      <td>1</td>\n",
       "      <td>2012</td>\n",
       "      <td>4</td>\n",
       "      <td>21</td>\n",
       "      <td>4</td>\n",
       "      <td>30</td>\n",
       "      <td>5</td>\n",
       "    </tr>\n",
       "    <tr>\n",
       "      <th>4</th>\n",
       "      <td>5.3</td>\n",
       "      <td>2010-03-09 07:51:00 UTC</td>\n",
       "      <td>-73.968095</td>\n",
       "      <td>40.768008</td>\n",
       "      <td>-73.956655</td>\n",
       "      <td>40.783762</td>\n",
       "      <td>1</td>\n",
       "      <td>2010</td>\n",
       "      <td>3</td>\n",
       "      <td>9</td>\n",
       "      <td>7</td>\n",
       "      <td>51</td>\n",
       "      <td>1</td>\n",
       "    </tr>\n",
       "  </tbody>\n",
       "</table>\n",
       "</div>"
      ],
      "text/plain": [
       "   fare_amount          pickup_datetime  pickup_longitude  pickup_latitude  \\\n",
       "0          4.5  2009-06-15 17:26:21 UTC        -73.844311        40.721319   \n",
       "1         16.9  2010-01-05 16:52:16 UTC        -74.016048        40.711303   \n",
       "2          5.7  2011-08-18 00:35:00 UTC        -73.982738        40.761270   \n",
       "3          7.7  2012-04-21 04:30:42 UTC        -73.987130        40.733143   \n",
       "4          5.3  2010-03-09 07:51:00 UTC        -73.968095        40.768008   \n",
       "\n",
       "   dropoff_longitude  dropoff_latitude  passenger_count  year  month  day  \\\n",
       "0         -73.841610         40.712278                1  2009      6   15   \n",
       "1         -73.979268         40.782004                1  2010      1    5   \n",
       "2         -73.991242         40.750562                2  2011      8   18   \n",
       "3         -73.991567         40.758092                1  2012      4   21   \n",
       "4         -73.956655         40.783762                1  2010      3    9   \n",
       "\n",
       "   hour  minute  day_of_week  \n",
       "0    17      26            0  \n",
       "1    16      52            1  \n",
       "2     0      35            3  \n",
       "3     4      30            5  \n",
       "4     7      51            1  "
      ]
     },
     "execution_count": 40,
     "metadata": {},
     "output_type": "execute_result"
    }
   ],
   "source": [
    "train2.head()"
   ]
  },
  {
   "cell_type": "code",
   "execution_count": 41,
   "id": "5ec019fc",
   "metadata": {},
   "outputs": [
    {
     "data": {
      "text/html": [
       "<div>\n",
       "<style scoped>\n",
       "    .dataframe tbody tr th:only-of-type {\n",
       "        vertical-align: middle;\n",
       "    }\n",
       "\n",
       "    .dataframe tbody tr th {\n",
       "        vertical-align: top;\n",
       "    }\n",
       "\n",
       "    .dataframe thead th {\n",
       "        text-align: right;\n",
       "    }\n",
       "</style>\n",
       "<table border=\"1\" class=\"dataframe\">\n",
       "  <thead>\n",
       "    <tr style=\"text-align: right;\">\n",
       "      <th></th>\n",
       "      <th>pickup_datetime</th>\n",
       "      <th>pickup_longitude</th>\n",
       "      <th>pickup_latitude</th>\n",
       "      <th>dropoff_longitude</th>\n",
       "      <th>dropoff_latitude</th>\n",
       "      <th>passenger_count</th>\n",
       "      <th>year</th>\n",
       "      <th>month</th>\n",
       "      <th>day</th>\n",
       "      <th>hour</th>\n",
       "      <th>minute</th>\n",
       "    </tr>\n",
       "  </thead>\n",
       "  <tbody>\n",
       "    <tr>\n",
       "      <th>0</th>\n",
       "      <td>2015-01-27 13:08:24 UTC</td>\n",
       "      <td>-73.973320</td>\n",
       "      <td>40.763805</td>\n",
       "      <td>-73.981430</td>\n",
       "      <td>40.743835</td>\n",
       "      <td>1</td>\n",
       "      <td>2015</td>\n",
       "      <td>1</td>\n",
       "      <td>27</td>\n",
       "      <td>13</td>\n",
       "      <td>8</td>\n",
       "    </tr>\n",
       "    <tr>\n",
       "      <th>1</th>\n",
       "      <td>2015-01-27 13:08:24 UTC</td>\n",
       "      <td>-73.986862</td>\n",
       "      <td>40.719383</td>\n",
       "      <td>-73.998886</td>\n",
       "      <td>40.739201</td>\n",
       "      <td>1</td>\n",
       "      <td>2015</td>\n",
       "      <td>1</td>\n",
       "      <td>27</td>\n",
       "      <td>13</td>\n",
       "      <td>8</td>\n",
       "    </tr>\n",
       "    <tr>\n",
       "      <th>2</th>\n",
       "      <td>2011-10-08 11:53:44 UTC</td>\n",
       "      <td>-73.982524</td>\n",
       "      <td>40.751260</td>\n",
       "      <td>-73.979654</td>\n",
       "      <td>40.746139</td>\n",
       "      <td>1</td>\n",
       "      <td>2011</td>\n",
       "      <td>10</td>\n",
       "      <td>8</td>\n",
       "      <td>11</td>\n",
       "      <td>53</td>\n",
       "    </tr>\n",
       "    <tr>\n",
       "      <th>3</th>\n",
       "      <td>2012-12-01 21:12:12 UTC</td>\n",
       "      <td>-73.981160</td>\n",
       "      <td>40.767807</td>\n",
       "      <td>-73.990448</td>\n",
       "      <td>40.751635</td>\n",
       "      <td>1</td>\n",
       "      <td>2012</td>\n",
       "      <td>12</td>\n",
       "      <td>1</td>\n",
       "      <td>21</td>\n",
       "      <td>12</td>\n",
       "    </tr>\n",
       "    <tr>\n",
       "      <th>4</th>\n",
       "      <td>2012-12-01 21:12:12 UTC</td>\n",
       "      <td>-73.966046</td>\n",
       "      <td>40.789775</td>\n",
       "      <td>-73.988565</td>\n",
       "      <td>40.744427</td>\n",
       "      <td>1</td>\n",
       "      <td>2012</td>\n",
       "      <td>12</td>\n",
       "      <td>1</td>\n",
       "      <td>21</td>\n",
       "      <td>12</td>\n",
       "    </tr>\n",
       "  </tbody>\n",
       "</table>\n",
       "</div>"
      ],
      "text/plain": [
       "           pickup_datetime  pickup_longitude  pickup_latitude  \\\n",
       "0  2015-01-27 13:08:24 UTC        -73.973320        40.763805   \n",
       "1  2015-01-27 13:08:24 UTC        -73.986862        40.719383   \n",
       "2  2011-10-08 11:53:44 UTC        -73.982524        40.751260   \n",
       "3  2012-12-01 21:12:12 UTC        -73.981160        40.767807   \n",
       "4  2012-12-01 21:12:12 UTC        -73.966046        40.789775   \n",
       "\n",
       "   dropoff_longitude  dropoff_latitude  passenger_count  year  month  day  \\\n",
       "0         -73.981430         40.743835                1  2015      1   27   \n",
       "1         -73.998886         40.739201                1  2015      1   27   \n",
       "2         -73.979654         40.746139                1  2011     10    8   \n",
       "3         -73.990448         40.751635                1  2012     12    1   \n",
       "4         -73.988565         40.744427                1  2012     12    1   \n",
       "\n",
       "   hour  minute  \n",
       "0    13       8  \n",
       "1    13       8  \n",
       "2    11      53  \n",
       "3    21      12  \n",
       "4    21      12  "
      ]
     },
     "execution_count": 41,
     "metadata": {},
     "output_type": "execute_result"
    }
   ],
   "source": [
    "test1.head()"
   ]
  },
  {
   "cell_type": "markdown",
   "id": "280961df",
   "metadata": {},
   "source": [
    "now obtaining day_of_week for test data"
   ]
  },
  {
   "cell_type": "code",
   "execution_count": 42,
   "id": "d2bce16a",
   "metadata": {},
   "outputs": [],
   "source": [
    "test1['day_of_week']=pd.to_datetime(test1[['year', 'month', 'day']]).dt.day_name() \n",
    "string_day_of_week=test1['day_of_week'].tolist() \n",
    "numerical_day_of_week= dayofweek(string_day_of_week)\n",
    "test1=test1.assign(day_of_week=numerical_day_of_week)"
   ]
  },
  {
   "cell_type": "markdown",
   "id": "3a22946d",
   "metadata": {},
   "source": [
    "now the feature pickup_datetime is not gonna be too useful so drop it, and minute too is not a very important feature, hence we will drop that too."
   ]
  },
  {
   "cell_type": "code",
   "execution_count": 43,
   "id": "ec197648",
   "metadata": {},
   "outputs": [],
   "source": [
    "train3=train2.drop(['pickup_datetime','minute'],axis=1)\n",
    "test3=test1.drop(['pickup_datetime','minute'],axis=1)"
   ]
  },
  {
   "cell_type": "code",
   "execution_count": 44,
   "id": "1a1531bd",
   "metadata": {},
   "outputs": [
    {
     "data": {
      "text/plain": [
       "fare_amount          float64\n",
       "pickup_longitude     float64\n",
       "pickup_latitude      float64\n",
       "dropoff_longitude    float64\n",
       "dropoff_latitude     float64\n",
       "passenger_count        int64\n",
       "year                   int64\n",
       "month                  int64\n",
       "day                    int64\n",
       "hour                   int64\n",
       "day_of_week            int64\n",
       "dtype: object"
      ]
     },
     "execution_count": 44,
     "metadata": {},
     "output_type": "execute_result"
    }
   ],
   "source": [
    "train3.dtypes"
   ]
  },
  {
   "cell_type": "code",
   "execution_count": 45,
   "id": "724c2bcf",
   "metadata": {},
   "outputs": [
    {
     "data": {
      "text/plain": [
       "pickup_longitude     float64\n",
       "pickup_latitude      float64\n",
       "dropoff_longitude    float64\n",
       "dropoff_latitude     float64\n",
       "passenger_count        int64\n",
       "year                   int64\n",
       "month                  int64\n",
       "day                    int64\n",
       "hour                   int64\n",
       "day_of_week            int64\n",
       "dtype: object"
      ]
     },
     "execution_count": 45,
     "metadata": {},
     "output_type": "execute_result"
    }
   ],
   "source": [
    "test3.dtypes"
   ]
  },
  {
   "cell_type": "markdown",
   "id": "acba1f39",
   "metadata": {},
   "source": [
    "we will now find the travel distance from the latitudes and longitudes,using haversine distance as distance is an important factor in predicting the fare."
   ]
  },
  {
   "cell_type": "code",
   "execution_count": 46,
   "id": "fa46865f",
   "metadata": {},
   "outputs": [],
   "source": [
    "def haversine_distance(lat1, long1, lat2, long2):\n",
    "    data = [train3, test3]\n",
    "    for i in data:\n",
    "        R = 6371  #radius of earth in kilometers\n",
    "        phi1 = np.radians(i[lat1])\n",
    "        phi2 = np.radians(i[lat2])\n",
    "    \n",
    "        delta_phi = np.radians(i[lat2]-i[lat1])\n",
    "        delta_lambda = np.radians(i[long2]-i[long1])\n",
    "    \n",
    "        #a = sin²((φB - φA)/2) + cos φA . cos φB . sin²((λB - λA)/2)\n",
    "        a = np.sin(delta_phi / 2.0) ** 2 + np.cos(phi1) * np.cos(phi2) * np.sin(delta_lambda / 2.0) ** 2\n",
    "    \n",
    "        #c = 2 * atan2( √a, √(1−a) )\n",
    "        c = 2 * np.arctan2(np.sqrt(a), np.sqrt(1-a))\n",
    "    \n",
    "        #d = R*c\n",
    "        d = (R * c) #in kilometers\n",
    "        i['H_Distance'] = d\n",
    "    return d"
   ]
  },
  {
   "cell_type": "code",
   "execution_count": 47,
   "id": "19a6f343",
   "metadata": {},
   "outputs": [
    {
     "data": {
      "text/plain": [
       "0        2.323260\n",
       "1        2.425353\n",
       "2        0.618628\n",
       "3        1.961033\n",
       "4        5.387301\n",
       "          ...    \n",
       "9909     2.124874\n",
       "9910     3.270969\n",
       "9911    19.183941\n",
       "9912     8.343486\n",
       "9913     1.180825\n",
       "Length: 9914, dtype: float64"
      ]
     },
     "execution_count": 47,
     "metadata": {},
     "output_type": "execute_result"
    }
   ],
   "source": [
    "haversine_distance('pickup_latitude', 'pickup_longitude', 'dropoff_latitude', 'dropoff_longitude')"
   ]
  },
  {
   "cell_type": "code",
   "execution_count": 48,
   "id": "49438266",
   "metadata": {},
   "outputs": [
    {
     "data": {
      "text/html": [
       "<div>\n",
       "<style scoped>\n",
       "    .dataframe tbody tr th:only-of-type {\n",
       "        vertical-align: middle;\n",
       "    }\n",
       "\n",
       "    .dataframe tbody tr th {\n",
       "        vertical-align: top;\n",
       "    }\n",
       "\n",
       "    .dataframe thead th {\n",
       "        text-align: right;\n",
       "    }\n",
       "</style>\n",
       "<table border=\"1\" class=\"dataframe\">\n",
       "  <thead>\n",
       "    <tr style=\"text-align: right;\">\n",
       "      <th></th>\n",
       "      <th>fare_amount</th>\n",
       "      <th>pickup_longitude</th>\n",
       "      <th>pickup_latitude</th>\n",
       "      <th>dropoff_longitude</th>\n",
       "      <th>dropoff_latitude</th>\n",
       "      <th>passenger_count</th>\n",
       "      <th>year</th>\n",
       "      <th>month</th>\n",
       "      <th>day</th>\n",
       "      <th>hour</th>\n",
       "      <th>day_of_week</th>\n",
       "      <th>H_Distance</th>\n",
       "    </tr>\n",
       "  </thead>\n",
       "  <tbody>\n",
       "    <tr>\n",
       "      <th>fare_amount</th>\n",
       "      <td>1.000000</td>\n",
       "      <td>0.009614</td>\n",
       "      <td>-0.009016</td>\n",
       "      <td>0.010383</td>\n",
       "      <td>-0.010247</td>\n",
       "      <td>0.011915</td>\n",
       "      <td>0.115840</td>\n",
       "      <td>0.024922</td>\n",
       "      <td>0.001504</td>\n",
       "      <td>-0.018977</td>\n",
       "      <td>0.002669</td>\n",
       "      <td>0.025153</td>\n",
       "    </tr>\n",
       "    <tr>\n",
       "      <th>pickup_longitude</th>\n",
       "      <td>0.009614</td>\n",
       "      <td>1.000000</td>\n",
       "      <td>-0.979181</td>\n",
       "      <td>0.954788</td>\n",
       "      <td>-0.941600</td>\n",
       "      <td>-0.000837</td>\n",
       "      <td>0.006942</td>\n",
       "      <td>-0.001323</td>\n",
       "      <td>0.005918</td>\n",
       "      <td>-0.000238</td>\n",
       "      <td>0.002252</td>\n",
       "      <td>0.142878</td>\n",
       "    </tr>\n",
       "    <tr>\n",
       "      <th>pickup_latitude</th>\n",
       "      <td>-0.009016</td>\n",
       "      <td>-0.979181</td>\n",
       "      <td>1.000000</td>\n",
       "      <td>-0.941404</td>\n",
       "      <td>0.962559</td>\n",
       "      <td>-0.000084</td>\n",
       "      <td>-0.009391</td>\n",
       "      <td>0.002858</td>\n",
       "      <td>-0.009183</td>\n",
       "      <td>0.000446</td>\n",
       "      <td>-0.003574</td>\n",
       "      <td>-0.124016</td>\n",
       "    </tr>\n",
       "    <tr>\n",
       "      <th>dropoff_longitude</th>\n",
       "      <td>0.010383</td>\n",
       "      <td>0.954788</td>\n",
       "      <td>-0.941404</td>\n",
       "      <td>1.000000</td>\n",
       "      <td>-0.979498</td>\n",
       "      <td>-0.000705</td>\n",
       "      <td>0.008682</td>\n",
       "      <td>-0.001501</td>\n",
       "      <td>0.005182</td>\n",
       "      <td>-0.000981</td>\n",
       "      <td>0.002531</td>\n",
       "      <td>0.144421</td>\n",
       "    </tr>\n",
       "    <tr>\n",
       "      <th>dropoff_latitude</th>\n",
       "      <td>-0.010247</td>\n",
       "      <td>-0.941600</td>\n",
       "      <td>0.962559</td>\n",
       "      <td>-0.979498</td>\n",
       "      <td>1.000000</td>\n",
       "      <td>-0.000397</td>\n",
       "      <td>-0.010972</td>\n",
       "      <td>0.002961</td>\n",
       "      <td>-0.008619</td>\n",
       "      <td>0.000938</td>\n",
       "      <td>-0.003712</td>\n",
       "      <td>-0.126490</td>\n",
       "    </tr>\n",
       "    <tr>\n",
       "      <th>passenger_count</th>\n",
       "      <td>0.011915</td>\n",
       "      <td>-0.000837</td>\n",
       "      <td>-0.000084</td>\n",
       "      <td>-0.000705</td>\n",
       "      <td>-0.000397</td>\n",
       "      <td>1.000000</td>\n",
       "      <td>0.004369</td>\n",
       "      <td>0.005003</td>\n",
       "      <td>0.004436</td>\n",
       "      <td>0.017077</td>\n",
       "      <td>0.036640</td>\n",
       "      <td>-0.000375</td>\n",
       "    </tr>\n",
       "    <tr>\n",
       "      <th>year</th>\n",
       "      <td>0.115840</td>\n",
       "      <td>0.006942</td>\n",
       "      <td>-0.009391</td>\n",
       "      <td>0.008682</td>\n",
       "      <td>-0.010972</td>\n",
       "      <td>0.004369</td>\n",
       "      <td>1.000000</td>\n",
       "      <td>-0.118316</td>\n",
       "      <td>-0.009967</td>\n",
       "      <td>0.002179</td>\n",
       "      <td>0.009024</td>\n",
       "      <td>0.025389</td>\n",
       "    </tr>\n",
       "    <tr>\n",
       "      <th>month</th>\n",
       "      <td>0.024922</td>\n",
       "      <td>-0.001323</td>\n",
       "      <td>0.002858</td>\n",
       "      <td>-0.001501</td>\n",
       "      <td>0.002961</td>\n",
       "      <td>0.005003</td>\n",
       "      <td>-0.118316</td>\n",
       "      <td>1.000000</td>\n",
       "      <td>-0.015720</td>\n",
       "      <td>-0.004137</td>\n",
       "      <td>-0.007725</td>\n",
       "      <td>0.000730</td>\n",
       "    </tr>\n",
       "    <tr>\n",
       "      <th>day</th>\n",
       "      <td>0.001504</td>\n",
       "      <td>0.005918</td>\n",
       "      <td>-0.009183</td>\n",
       "      <td>0.005182</td>\n",
       "      <td>-0.008619</td>\n",
       "      <td>0.004436</td>\n",
       "      <td>-0.009967</td>\n",
       "      <td>-0.015720</td>\n",
       "      <td>1.000000</td>\n",
       "      <td>0.001979</td>\n",
       "      <td>0.007403</td>\n",
       "      <td>0.000263</td>\n",
       "    </tr>\n",
       "    <tr>\n",
       "      <th>hour</th>\n",
       "      <td>-0.018977</td>\n",
       "      <td>-0.000238</td>\n",
       "      <td>0.000446</td>\n",
       "      <td>-0.000981</td>\n",
       "      <td>0.000938</td>\n",
       "      <td>0.017077</td>\n",
       "      <td>0.002179</td>\n",
       "      <td>-0.004137</td>\n",
       "      <td>0.001979</td>\n",
       "      <td>1.000000</td>\n",
       "      <td>-0.087993</td>\n",
       "      <td>-0.001027</td>\n",
       "    </tr>\n",
       "    <tr>\n",
       "      <th>day_of_week</th>\n",
       "      <td>0.002669</td>\n",
       "      <td>0.002252</td>\n",
       "      <td>-0.003574</td>\n",
       "      <td>0.002531</td>\n",
       "      <td>-0.003712</td>\n",
       "      <td>0.036640</td>\n",
       "      <td>0.009024</td>\n",
       "      <td>-0.007725</td>\n",
       "      <td>0.007403</td>\n",
       "      <td>-0.087993</td>\n",
       "      <td>1.000000</td>\n",
       "      <td>-0.000803</td>\n",
       "    </tr>\n",
       "    <tr>\n",
       "      <th>H_Distance</th>\n",
       "      <td>0.025153</td>\n",
       "      <td>0.142878</td>\n",
       "      <td>-0.124016</td>\n",
       "      <td>0.144421</td>\n",
       "      <td>-0.126490</td>\n",
       "      <td>-0.000375</td>\n",
       "      <td>0.025389</td>\n",
       "      <td>0.000730</td>\n",
       "      <td>0.000263</td>\n",
       "      <td>-0.001027</td>\n",
       "      <td>-0.000803</td>\n",
       "      <td>1.000000</td>\n",
       "    </tr>\n",
       "  </tbody>\n",
       "</table>\n",
       "</div>"
      ],
      "text/plain": [
       "                   fare_amount  pickup_longitude  pickup_latitude  \\\n",
       "fare_amount           1.000000          0.009614        -0.009016   \n",
       "pickup_longitude      0.009614          1.000000        -0.979181   \n",
       "pickup_latitude      -0.009016         -0.979181         1.000000   \n",
       "dropoff_longitude     0.010383          0.954788        -0.941404   \n",
       "dropoff_latitude     -0.010247         -0.941600         0.962559   \n",
       "passenger_count       0.011915         -0.000837        -0.000084   \n",
       "year                  0.115840          0.006942        -0.009391   \n",
       "month                 0.024922         -0.001323         0.002858   \n",
       "day                   0.001504          0.005918        -0.009183   \n",
       "hour                 -0.018977         -0.000238         0.000446   \n",
       "day_of_week           0.002669          0.002252        -0.003574   \n",
       "H_Distance            0.025153          0.142878        -0.124016   \n",
       "\n",
       "                   dropoff_longitude  dropoff_latitude  passenger_count  \\\n",
       "fare_amount                 0.010383         -0.010247         0.011915   \n",
       "pickup_longitude            0.954788         -0.941600        -0.000837   \n",
       "pickup_latitude            -0.941404          0.962559        -0.000084   \n",
       "dropoff_longitude           1.000000         -0.979498        -0.000705   \n",
       "dropoff_latitude           -0.979498          1.000000        -0.000397   \n",
       "passenger_count            -0.000705         -0.000397         1.000000   \n",
       "year                        0.008682         -0.010972         0.004369   \n",
       "month                      -0.001501          0.002961         0.005003   \n",
       "day                         0.005182         -0.008619         0.004436   \n",
       "hour                       -0.000981          0.000938         0.017077   \n",
       "day_of_week                 0.002531         -0.003712         0.036640   \n",
       "H_Distance                  0.144421         -0.126490        -0.000375   \n",
       "\n",
       "                       year     month       day      hour  day_of_week  \\\n",
       "fare_amount        0.115840  0.024922  0.001504 -0.018977     0.002669   \n",
       "pickup_longitude   0.006942 -0.001323  0.005918 -0.000238     0.002252   \n",
       "pickup_latitude   -0.009391  0.002858 -0.009183  0.000446    -0.003574   \n",
       "dropoff_longitude  0.008682 -0.001501  0.005182 -0.000981     0.002531   \n",
       "dropoff_latitude  -0.010972  0.002961 -0.008619  0.000938    -0.003712   \n",
       "passenger_count    0.004369  0.005003  0.004436  0.017077     0.036640   \n",
       "year               1.000000 -0.118316 -0.009967  0.002179     0.009024   \n",
       "month             -0.118316  1.000000 -0.015720 -0.004137    -0.007725   \n",
       "day               -0.009967 -0.015720  1.000000  0.001979     0.007403   \n",
       "hour               0.002179 -0.004137  0.001979  1.000000    -0.087993   \n",
       "day_of_week        0.009024 -0.007725  0.007403 -0.087993     1.000000   \n",
       "H_Distance         0.025389  0.000730  0.000263 -0.001027    -0.000803   \n",
       "\n",
       "                   H_Distance  \n",
       "fare_amount          0.025153  \n",
       "pickup_longitude     0.142878  \n",
       "pickup_latitude     -0.124016  \n",
       "dropoff_longitude    0.144421  \n",
       "dropoff_latitude    -0.126490  \n",
       "passenger_count     -0.000375  \n",
       "year                 0.025389  \n",
       "month                0.000730  \n",
       "day                  0.000263  \n",
       "hour                -0.001027  \n",
       "day_of_week         -0.000803  \n",
       "H_Distance           1.000000  "
      ]
     },
     "execution_count": 48,
     "metadata": {},
     "output_type": "execute_result"
    }
   ],
   "source": [
    "#now we will analyse the correlations between target and independent variables\n",
    "train3.corr()"
   ]
  },
  {
   "cell_type": "code",
   "execution_count": 49,
   "id": "19062b4d",
   "metadata": {},
   "outputs": [
    {
     "data": {
      "image/png": "[encoded data removed]",
      "text/plain": [
       "<Figure size 432x288 with 1 Axes>"
      ]
     },
     "metadata": {
      "needs_background": "light"
     },
     "output_type": "display_data"
    }
   ],
   "source": [
    "#let's analyse H_Distance\n",
    "plt.scatter(x=train3['H_Distance'],y=train3['fare_amount'])\n",
    "plt.xlabel('H_Distance')\n",
    "plt.ylabel('fare_amount')\n",
    "plt.show()"
   ]
  },
  {
   "cell_type": "markdown",
   "id": "1ebfcfb2",
   "metadata": {},
   "source": [
    "as seen from above graph, we can say that entries with H_distance above upper_limit are outliers, and we will remove them. Let's find the upper_limit."
   ]
  },
  {
   "cell_type": "code",
   "execution_count": 50,
   "id": "7b9e1468",
   "metadata": {},
   "outputs": [],
   "source": [
    "q1=train3['H_Distance'].quantile(0.25)\n",
    "q3=train3['H_Distance'].quantile(0.75)\n",
    "iqr=q3-q1\n",
    "upper_limit=q3+1.5*iqr"
   ]
  },
  {
   "cell_type": "code",
   "execution_count": 51,
   "id": "34e0ce36",
   "metadata": {},
   "outputs": [],
   "source": [
    "train3=train3.drop(train3[train3['H_Distance']>=upper_limit].index) #removing outliers from H_distance"
   ]
  },
  {
   "cell_type": "code",
   "execution_count": 52,
   "id": "9207653f",
   "metadata": {},
   "outputs": [],
   "source": [
    "train3['fare_per_person_per_unit_distance']=train3['fare_amount']/(train3['passenger_count']*train3['H_Distance'])\n",
    "#calculating fare per person per unit distance"
   ]
  },
  {
   "cell_type": "code",
   "execution_count": 53,
   "id": "2601baf5",
   "metadata": {},
   "outputs": [
    {
     "data": {
      "image/png": "[encoded data removed]",
      "text/plain": [
       "<Figure size 432x288 with 1 Axes>"
      ]
     },
     "metadata": {
      "needs_background": "light"
     },
     "output_type": "display_data"
    }
   ],
   "source": [
    "plt.scatter(x=train3['fare_per_person_per_unit_distance'],y=train3['fare_amount'])\n",
    "plt.xlabel('fare_per_person_per_unit_distance')\n",
    "plt.ylabel('fare_amount')\n",
    "plt.show()"
   ]
  },
  {
   "cell_type": "markdown",
   "id": "15f18da6",
   "metadata": {},
   "source": [
    "From the above graph we can remove outliers i.e. the entries with fare_per_person_per_unit_distance > upper_limit.\n",
    "Let's find the upper limit"
   ]
  },
  {
   "cell_type": "code",
   "execution_count": 54,
   "id": "fbfc4bda",
   "metadata": {},
   "outputs": [],
   "source": [
    "q1=train3['fare_per_person_per_unit_distance'].quantile(0.25)\n",
    "q3=train3['fare_per_person_per_unit_distance'].quantile(0.75)\n",
    "iqr=q3-q1\n",
    "upper_limit=q3+1.5*iqr"
   ]
  },
  {
   "cell_type": "code",
   "execution_count": 55,
   "id": "a017a870",
   "metadata": {},
   "outputs": [],
   "source": [
    "train3=train3.drop(train3[train3['fare_per_person_per_unit_distance']>=upper_limit].index)"
   ]
  },
  {
   "cell_type": "markdown",
   "id": "8bd69162",
   "metadata": {},
   "source": [
    "Note that apart from deleting rows with outliers/ null values, we could also have done imputation/data transformation/binning, but since the dataset was too large as compared to the number of rows to be deleted, hence the deletion of these rows couldn't have caused any harsh effect on the data, and hence we went ahead with simply deleting them"
   ]
  },
  {
   "cell_type": "markdown",
   "id": "5f223bbf",
   "metadata": {},
   "source": [
    "Data cleaning completed..."
   ]
  },
  {
   "cell_type": "code",
   "execution_count": 56,
   "id": "569af064",
   "metadata": {},
   "outputs": [],
   "source": [
    "train3.to_csv('train4.csv',index=False)"
   ]
  },
  {
   "cell_type": "code",
   "execution_count": 57,
   "id": "6c570649",
   "metadata": {},
   "outputs": [],
   "source": [
    "test3.to_csv('test4.csv',index=False)"
   ]
  },
  {
   "cell_type": "code",
   "execution_count": 58,
   "id": "0561fe8b",
   "metadata": {},
   "outputs": [],
   "source": [
    "#break point"
   ]
  },
  {
   "cell_type": "code",
   "execution_count": 59,
   "id": "b17b8dba",
   "metadata": {},
   "outputs": [],
   "source": [
    "train4=pd.read_csv('train4.csv')\n",
    "test4=pd.read_csv('test4.csv')"
   ]
  },
  {
   "cell_type": "markdown",
   "id": "b09d2f9c",
   "metadata": {},
   "source": [
    "train4 has 2 extra features fare_amount and fare_per_person_per_unit_distance, we will delete the fare_per_person_per_unit_distance since we were using it mainly for removing outliers."
   ]
  },
  {
   "cell_type": "code",
   "execution_count": 60,
   "id": "4bfb3821",
   "metadata": {},
   "outputs": [],
   "source": [
    "train4=train4.drop('fare_per_person_per_unit_distance',axis=\"columns\")"
   ]
  },
  {
   "cell_type": "code",
   "execution_count": 61,
   "id": "4d2da39a",
   "metadata": {
    "scrolled": true
   },
   "outputs": [
    {
     "data": {
      "text/html": [
       "<div>\n",
       "<style scoped>\n",
       "    .dataframe tbody tr th:only-of-type {\n",
       "        vertical-align: middle;\n",
       "    }\n",
       "\n",
       "    .dataframe tbody tr th {\n",
       "        vertical-align: top;\n",
       "    }\n",
       "\n",
       "    .dataframe thead th {\n",
       "        text-align: right;\n",
       "    }\n",
       "</style>\n",
       "<table border=\"1\" class=\"dataframe\">\n",
       "  <thead>\n",
       "    <tr style=\"text-align: right;\">\n",
       "      <th></th>\n",
       "      <th>fare_amount</th>\n",
       "      <th>pickup_longitude</th>\n",
       "      <th>pickup_latitude</th>\n",
       "      <th>dropoff_longitude</th>\n",
       "      <th>dropoff_latitude</th>\n",
       "      <th>passenger_count</th>\n",
       "      <th>year</th>\n",
       "      <th>month</th>\n",
       "      <th>day</th>\n",
       "      <th>hour</th>\n",
       "      <th>day_of_week</th>\n",
       "      <th>H_Distance</th>\n",
       "    </tr>\n",
       "  </thead>\n",
       "  <tbody>\n",
       "    <tr>\n",
       "      <th>fare_amount</th>\n",
       "      <td>1.000000</td>\n",
       "      <td>0.007789</td>\n",
       "      <td>-0.008098</td>\n",
       "      <td>0.008396</td>\n",
       "      <td>-0.008563</td>\n",
       "      <td>0.013522</td>\n",
       "      <td>0.172232</td>\n",
       "      <td>0.031831</td>\n",
       "      <td>0.001873</td>\n",
       "      <td>-0.003957</td>\n",
       "      <td>0.017718</td>\n",
       "      <td>0.821562</td>\n",
       "    </tr>\n",
       "    <tr>\n",
       "      <th>pickup_longitude</th>\n",
       "      <td>0.007789</td>\n",
       "      <td>1.000000</td>\n",
       "      <td>-0.994758</td>\n",
       "      <td>0.999966</td>\n",
       "      <td>-0.994765</td>\n",
       "      <td>0.009489</td>\n",
       "      <td>0.013072</td>\n",
       "      <td>-0.006951</td>\n",
       "      <td>0.018146</td>\n",
       "      <td>-0.001087</td>\n",
       "      <td>0.006426</td>\n",
       "      <td>-0.005054</td>\n",
       "    </tr>\n",
       "    <tr>\n",
       "      <th>pickup_latitude</th>\n",
       "      <td>-0.008098</td>\n",
       "      <td>-0.994758</td>\n",
       "      <td>1.000000</td>\n",
       "      <td>-0.994773</td>\n",
       "      <td>0.999957</td>\n",
       "      <td>-0.008919</td>\n",
       "      <td>-0.013761</td>\n",
       "      <td>0.007242</td>\n",
       "      <td>-0.018412</td>\n",
       "      <td>0.001238</td>\n",
       "      <td>-0.007099</td>\n",
       "      <td>0.004225</td>\n",
       "    </tr>\n",
       "    <tr>\n",
       "      <th>dropoff_longitude</th>\n",
       "      <td>0.008396</td>\n",
       "      <td>0.999966</td>\n",
       "      <td>-0.994773</td>\n",
       "      <td>1.000000</td>\n",
       "      <td>-0.994744</td>\n",
       "      <td>0.009486</td>\n",
       "      <td>0.013148</td>\n",
       "      <td>-0.006955</td>\n",
       "      <td>0.018158</td>\n",
       "      <td>-0.001328</td>\n",
       "      <td>0.006514</td>\n",
       "      <td>-0.004060</td>\n",
       "    </tr>\n",
       "    <tr>\n",
       "      <th>dropoff_latitude</th>\n",
       "      <td>-0.008563</td>\n",
       "      <td>-0.994765</td>\n",
       "      <td>0.999957</td>\n",
       "      <td>-0.994744</td>\n",
       "      <td>1.000000</td>\n",
       "      <td>-0.008926</td>\n",
       "      <td>-0.013750</td>\n",
       "      <td>0.007246</td>\n",
       "      <td>-0.018402</td>\n",
       "      <td>0.001164</td>\n",
       "      <td>-0.007054</td>\n",
       "      <td>0.004191</td>\n",
       "    </tr>\n",
       "    <tr>\n",
       "      <th>passenger_count</th>\n",
       "      <td>0.013522</td>\n",
       "      <td>0.009489</td>\n",
       "      <td>-0.008919</td>\n",
       "      <td>0.009486</td>\n",
       "      <td>-0.008926</td>\n",
       "      <td>1.000000</td>\n",
       "      <td>0.007338</td>\n",
       "      <td>0.005707</td>\n",
       "      <td>0.004756</td>\n",
       "      <td>0.019184</td>\n",
       "      <td>0.037858</td>\n",
       "      <td>-0.011788</td>\n",
       "    </tr>\n",
       "    <tr>\n",
       "      <th>year</th>\n",
       "      <td>0.172232</td>\n",
       "      <td>0.013072</td>\n",
       "      <td>-0.013761</td>\n",
       "      <td>0.013148</td>\n",
       "      <td>-0.013750</td>\n",
       "      <td>0.007338</td>\n",
       "      <td>1.000000</td>\n",
       "      <td>-0.117091</td>\n",
       "      <td>-0.010476</td>\n",
       "      <td>0.002411</td>\n",
       "      <td>0.011032</td>\n",
       "      <td>0.009090</td>\n",
       "    </tr>\n",
       "    <tr>\n",
       "      <th>month</th>\n",
       "      <td>0.031831</td>\n",
       "      <td>-0.006951</td>\n",
       "      <td>0.007242</td>\n",
       "      <td>-0.006955</td>\n",
       "      <td>0.007246</td>\n",
       "      <td>0.005707</td>\n",
       "      <td>-0.117091</td>\n",
       "      <td>1.000000</td>\n",
       "      <td>-0.014877</td>\n",
       "      <td>-0.004367</td>\n",
       "      <td>-0.007333</td>\n",
       "      <td>0.012062</td>\n",
       "    </tr>\n",
       "    <tr>\n",
       "      <th>day</th>\n",
       "      <td>0.001873</td>\n",
       "      <td>0.018146</td>\n",
       "      <td>-0.018412</td>\n",
       "      <td>0.018158</td>\n",
       "      <td>-0.018402</td>\n",
       "      <td>0.004756</td>\n",
       "      <td>-0.010476</td>\n",
       "      <td>-0.014877</td>\n",
       "      <td>1.000000</td>\n",
       "      <td>0.002253</td>\n",
       "      <td>0.007009</td>\n",
       "      <td>0.002085</td>\n",
       "    </tr>\n",
       "    <tr>\n",
       "      <th>hour</th>\n",
       "      <td>-0.003957</td>\n",
       "      <td>-0.001087</td>\n",
       "      <td>0.001238</td>\n",
       "      <td>-0.001328</td>\n",
       "      <td>0.001164</td>\n",
       "      <td>0.019184</td>\n",
       "      <td>0.002411</td>\n",
       "      <td>-0.004367</td>\n",
       "      <td>0.002253</td>\n",
       "      <td>1.000000</td>\n",
       "      <td>-0.089324</td>\n",
       "      <td>-0.027234</td>\n",
       "    </tr>\n",
       "    <tr>\n",
       "      <th>day_of_week</th>\n",
       "      <td>0.017718</td>\n",
       "      <td>0.006426</td>\n",
       "      <td>-0.007099</td>\n",
       "      <td>0.006514</td>\n",
       "      <td>-0.007054</td>\n",
       "      <td>0.037858</td>\n",
       "      <td>0.011032</td>\n",
       "      <td>-0.007333</td>\n",
       "      <td>0.007009</td>\n",
       "      <td>-0.089324</td>\n",
       "      <td>1.000000</td>\n",
       "      <td>0.039394</td>\n",
       "    </tr>\n",
       "    <tr>\n",
       "      <th>H_Distance</th>\n",
       "      <td>0.821562</td>\n",
       "      <td>-0.005054</td>\n",
       "      <td>0.004225</td>\n",
       "      <td>-0.004060</td>\n",
       "      <td>0.004191</td>\n",
       "      <td>-0.011788</td>\n",
       "      <td>0.009090</td>\n",
       "      <td>0.012062</td>\n",
       "      <td>0.002085</td>\n",
       "      <td>-0.027234</td>\n",
       "      <td>0.039394</td>\n",
       "      <td>1.000000</td>\n",
       "    </tr>\n",
       "  </tbody>\n",
       "</table>\n",
       "</div>"
      ],
      "text/plain": [
       "                   fare_amount  pickup_longitude  pickup_latitude  \\\n",
       "fare_amount           1.000000          0.007789        -0.008098   \n",
       "pickup_longitude      0.007789          1.000000        -0.994758   \n",
       "pickup_latitude      -0.008098         -0.994758         1.000000   \n",
       "dropoff_longitude     0.008396          0.999966        -0.994773   \n",
       "dropoff_latitude     -0.008563         -0.994765         0.999957   \n",
       "passenger_count       0.013522          0.009489        -0.008919   \n",
       "year                  0.172232          0.013072        -0.013761   \n",
       "month                 0.031831         -0.006951         0.007242   \n",
       "day                   0.001873          0.018146        -0.018412   \n",
       "hour                 -0.003957         -0.001087         0.001238   \n",
       "day_of_week           0.017718          0.006426        -0.007099   \n",
       "H_Distance            0.821562         -0.005054         0.004225   \n",
       "\n",
       "                   dropoff_longitude  dropoff_latitude  passenger_count  \\\n",
       "fare_amount                 0.008396         -0.008563         0.013522   \n",
       "pickup_longitude            0.999966         -0.994765         0.009489   \n",
       "pickup_latitude            -0.994773          0.999957        -0.008919   \n",
       "dropoff_longitude           1.000000         -0.994744         0.009486   \n",
       "dropoff_latitude           -0.994744          1.000000        -0.008926   \n",
       "passenger_count             0.009486         -0.008926         1.000000   \n",
       "year                        0.013148         -0.013750         0.007338   \n",
       "month                      -0.006955          0.007246         0.005707   \n",
       "day                         0.018158         -0.018402         0.004756   \n",
       "hour                       -0.001328          0.001164         0.019184   \n",
       "day_of_week                 0.006514         -0.007054         0.037858   \n",
       "H_Distance                 -0.004060          0.004191        -0.011788   \n",
       "\n",
       "                       year     month       day      hour  day_of_week  \\\n",
       "fare_amount        0.172232  0.031831  0.001873 -0.003957     0.017718   \n",
       "pickup_longitude   0.013072 -0.006951  0.018146 -0.001087     0.006426   \n",
       "pickup_latitude   -0.013761  0.007242 -0.018412  0.001238    -0.007099   \n",
       "dropoff_longitude  0.013148 -0.006955  0.018158 -0.001328     0.006514   \n",
       "dropoff_latitude  -0.013750  0.007246 -0.018402  0.001164    -0.007054   \n",
       "passenger_count    0.007338  0.005707  0.004756  0.019184     0.037858   \n",
       "year               1.000000 -0.117091 -0.010476  0.002411     0.011032   \n",
       "month             -0.117091  1.000000 -0.014877 -0.004367    -0.007333   \n",
       "day               -0.010476 -0.014877  1.000000  0.002253     0.007009   \n",
       "hour               0.002411 -0.004367  0.002253  1.000000    -0.089324   \n",
       "day_of_week        0.011032 -0.007333  0.007009 -0.089324     1.000000   \n",
       "H_Distance         0.009090  0.012062  0.002085 -0.027234     0.039394   \n",
       "\n",
       "                   H_Distance  \n",
       "fare_amount          0.821562  \n",
       "pickup_longitude    -0.005054  \n",
       "pickup_latitude      0.004225  \n",
       "dropoff_longitude   -0.004060  \n",
       "dropoff_latitude     0.004191  \n",
       "passenger_count     -0.011788  \n",
       "year                 0.009090  \n",
       "month                0.012062  \n",
       "day                  0.002085  \n",
       "hour                -0.027234  \n",
       "day_of_week          0.039394  \n",
       "H_Distance           1.000000  "
      ]
     },
     "execution_count": 61,
     "metadata": {},
     "output_type": "execute_result"
    }
   ],
   "source": [
    "train4.corr()"
   ]
  },
  {
   "cell_type": "markdown",
   "id": "f58df364",
   "metadata": {},
   "source": [
    "day doesn't have a big correlation with fare_amount when compared to other features, so we will drop it"
   ]
  },
  {
   "cell_type": "code",
   "execution_count": 62,
   "id": "5a90ac9d",
   "metadata": {},
   "outputs": [],
   "source": [
    "train4.drop('day',inplace=True,axis='columns')\n",
    "test4.drop('day',inplace=True,axis='columns')"
   ]
  },
  {
   "cell_type": "markdown",
   "id": "58baffb9",
   "metadata": {},
   "source": [
    "now that we have the haversine_distance, we don't need the dropoff and pickup latitude and longitude anymore, so let's drop them."
   ]
  },
  {
   "cell_type": "code",
   "execution_count": 63,
   "id": "cc4c6914",
   "metadata": {},
   "outputs": [],
   "source": [
    "train4.drop(['dropoff_latitude','dropoff_longitude'],inplace=True,axis='columns')\n",
    "test4.drop(['dropoff_latitude','dropoff_longitude'],inplace=True,axis='columns')"
   ]
  },
  {
   "cell_type": "code",
   "execution_count": 64,
   "id": "d61f0a42",
   "metadata": {},
   "outputs": [],
   "source": [
    "train4.drop(['pickup_latitude','pickup_longitude'],inplace=True,axis='columns')\n",
    "test4.drop(['pickup_latitude','pickup_longitude'],inplace=True,axis='columns')"
   ]
  },
  {
   "cell_type": "markdown",
   "id": "0ab6494f",
   "metadata": {},
   "source": [
    "## Part B"
   ]
  },
  {
   "cell_type": "markdown",
   "id": "4b04184d",
   "metadata": {},
   "source": [
    "Data scaling ......"
   ]
  },
  {
   "cell_type": "markdown",
   "id": "76b227c2",
   "metadata": {},
   "source": [
    "When various features differ in magnitude of their range and variance, there could be several problems like \n",
    "1. The variable with a greater range/magnitude tends to become more dominant and affect the predictions made by the model.\n",
    "2. The gardient descent takes a long time to converge in such cases.\n",
    "Hence, the variables have to be \"scaled\" to similar magnitudes/ranges.\n",
    "\n",
    "Some of the methods of feature scaling are:\n",
    "    1. Standardisaton\n",
    "    2. Min-Max scaling\n",
    "    3. Normalization\n",
    "    \n",
    "We will be using sklearn for scaling our features here."
   ]
  },
  {
   "cell_type": "code",
   "execution_count": 65,
   "id": "1d1878fb",
   "metadata": {},
   "outputs": [
    {
     "name": "stdout",
     "output_type": "stream",
     "text": [
      "(849760, 7)\n"
     ]
    }
   ],
   "source": [
    "print(train4.shape)"
   ]
  },
  {
   "cell_type": "code",
   "execution_count": 66,
   "id": "144052c2",
   "metadata": {},
   "outputs": [
    {
     "data": {
      "text/html": [
       "<div>\n",
       "<style scoped>\n",
       "    .dataframe tbody tr th:only-of-type {\n",
       "        vertical-align: middle;\n",
       "    }\n",
       "\n",
       "    .dataframe tbody tr th {\n",
       "        vertical-align: top;\n",
       "    }\n",
       "\n",
       "    .dataframe thead th {\n",
       "        text-align: right;\n",
       "    }\n",
       "</style>\n",
       "<table border=\"1\" class=\"dataframe\">\n",
       "  <thead>\n",
       "    <tr style=\"text-align: right;\">\n",
       "      <th></th>\n",
       "      <th>fare_amount</th>\n",
       "      <th>passenger_count</th>\n",
       "      <th>year</th>\n",
       "      <th>month</th>\n",
       "      <th>hour</th>\n",
       "      <th>day_of_week</th>\n",
       "      <th>H_Distance</th>\n",
       "    </tr>\n",
       "  </thead>\n",
       "  <tbody>\n",
       "    <tr>\n",
       "      <th>0</th>\n",
       "      <td>4.5</td>\n",
       "      <td>1</td>\n",
       "      <td>2009</td>\n",
       "      <td>6</td>\n",
       "      <td>17</td>\n",
       "      <td>0</td>\n",
       "      <td>1.030764</td>\n",
       "    </tr>\n",
       "    <tr>\n",
       "      <th>1</th>\n",
       "      <td>5.7</td>\n",
       "      <td>2</td>\n",
       "      <td>2011</td>\n",
       "      <td>8</td>\n",
       "      <td>0</td>\n",
       "      <td>3</td>\n",
       "      <td>1.389525</td>\n",
       "    </tr>\n",
       "    <tr>\n",
       "      <th>2</th>\n",
       "      <td>7.7</td>\n",
       "      <td>1</td>\n",
       "      <td>2012</td>\n",
       "      <td>4</td>\n",
       "      <td>4</td>\n",
       "      <td>5</td>\n",
       "      <td>2.799270</td>\n",
       "    </tr>\n",
       "    <tr>\n",
       "      <th>3</th>\n",
       "      <td>5.3</td>\n",
       "      <td>1</td>\n",
       "      <td>2010</td>\n",
       "      <td>3</td>\n",
       "      <td>7</td>\n",
       "      <td>1</td>\n",
       "      <td>1.999157</td>\n",
       "    </tr>\n",
       "    <tr>\n",
       "      <th>4</th>\n",
       "      <td>12.1</td>\n",
       "      <td>1</td>\n",
       "      <td>2011</td>\n",
       "      <td>1</td>\n",
       "      <td>9</td>\n",
       "      <td>3</td>\n",
       "      <td>3.787239</td>\n",
       "    </tr>\n",
       "  </tbody>\n",
       "</table>\n",
       "</div>"
      ],
      "text/plain": [
       "   fare_amount  passenger_count  year  month  hour  day_of_week  H_Distance\n",
       "0          4.5                1  2009      6    17            0    1.030764\n",
       "1          5.7                2  2011      8     0            3    1.389525\n",
       "2          7.7                1  2012      4     4            5    2.799270\n",
       "3          5.3                1  2010      3     7            1    1.999157\n",
       "4         12.1                1  2011      1     9            3    3.787239"
      ]
     },
     "execution_count": 66,
     "metadata": {},
     "output_type": "execute_result"
    }
   ],
   "source": [
    "train4.head()"
   ]
  },
  {
   "cell_type": "code",
   "execution_count": 67,
   "id": "8e5cccf1",
   "metadata": {},
   "outputs": [],
   "source": [
    "from sklearn import preprocessing\n",
    "scale=preprocessing.StandardScaler()"
   ]
  },
  {
   "cell_type": "code",
   "execution_count": 68,
   "id": "88c1f31e",
   "metadata": {},
   "outputs": [],
   "source": [
    "scaled_train=scale.fit_transform(train4)"
   ]
  },
  {
   "cell_type": "code",
   "execution_count": 69,
   "id": "7d92c285",
   "metadata": {},
   "outputs": [],
   "source": [
    "scaled_traindata=pd.DataFrame(data = scaled_train, columns = train4.columns)"
   ]
  },
  {
   "cell_type": "markdown",
   "id": "5ea197f9",
   "metadata": {},
   "source": [
    "data scaling for both test and train set's independent variables has been done."
   ]
  },
  {
   "cell_type": "markdown",
   "id": "13cc916a",
   "metadata": {},
   "source": [
    "## Part C"
   ]
  },
  {
   "cell_type": "markdown",
   "id": "70d8b991",
   "metadata": {},
   "source": [
    "Building a pipeline"
   ]
  },
  {
   "cell_type": "markdown",
   "id": "d2962eec",
   "metadata": {},
   "source": [
    "The pipeline is a series of transformers/functions which are performed one after another."
   ]
  },
  {
   "cell_type": "markdown",
   "id": "9bdfa32d",
   "metadata": {},
   "source": [
    "we will now club all the similar operations of part1 and part2 under a single function, and then pass these functions to the pipeline."
   ]
  },
  {
   "cell_type": "code",
   "execution_count": 70,
   "id": "a8cd090d",
   "metadata": {},
   "outputs": [],
   "source": [
    "def h_d(data,lat1, long1, lat2, long2):\n",
    "    l = [data]\n",
    "    for i in l:\n",
    "        R = 6371  #radius of earth in kilometers\n",
    "        phi1 = np.radians(i[lat1])\n",
    "        phi2 = np.radians(i[lat2])\n",
    "    \n",
    "        delta_phi = np.radians(i[lat2]-i[lat1])\n",
    "        delta_lambda = np.radians(i[long2]-i[long1])\n",
    "    \n",
    "        #a = sin²((φB - φA)/2) + cos φA . cos φB . sin²((λB - λA)/2)\n",
    "        a = np.sin(delta_phi / 2.0) ** 2 + np.cos(phi1) * np.cos(phi2) * np.sin(delta_lambda / 2.0) ** 2\n",
    "    \n",
    "        #c = 2 * atan2( √a, √(1−a) )\n",
    "        c = 2 * np.arctan2(np.sqrt(a), np.sqrt(1-a))\n",
    "    \n",
    "        #d = R*c\n",
    "        d = (R * c) #in kilometers\n",
    "        i['H_Distance'] = d\n",
    "    return d\n",
    "#null values and outlier remover\n",
    "def pipeline(data): #starts with removing null values and values that are illogical/impractical/unreal\n",
    "    numerics = ['int16', 'int32', 'int64', 'float16', 'float32', 'float64']\n",
    "    data1=data.dropna() #all entries with null values will be dropped\n",
    "    num_cols=(data1.select_dtypes(include=numerics))\n",
    "    for x in num_cols:\n",
    "        q75,q25 = np.percentile(data1.loc[:,x],[75,25])\n",
    "        intr_qr = q75-q25\n",
    " \n",
    "        ma = q75+(1.5*intr_qr)\n",
    "        mi = q25-(1.5*intr_qr)\n",
    " \n",
    "        data1.drop(data1[data1[x] < mi].index) \n",
    "        data1.drop(data1[data1[x] > ma].index) #replacing all the outliers with null\n",
    "    data2=data1.dropna() #removing the outlying null values\n",
    "    data2=data2.drop(data2[data2['fare_amount'] <= 0].index)\n",
    "    data2=data2.drop(data2[data2['passenger_count']>6].index)\n",
    "    data2=data2.drop(data2[data2['passenger_count']<=0].index)\n",
    "    data2=data2.drop(data2[data2['pickup_latitude']>90].index)\n",
    "    data2=data2.drop(data2[data2['pickup_latitude']<-90].index)\n",
    "    data2=data2.drop(data2[data2['dropoff_latitude']>90].index)\n",
    "    data2=data2.drop(data2[data2['dropoff_latitude']<-90].index)\n",
    "    data2=data2.drop(data2[data2['pickup_longitude']>180].index)\n",
    "    data2=data2.drop(data2[data2['pickup_longitude']<-180].index)\n",
    "    data2=data2.drop(data2[data2['dropoff_longitude']>180].index)\n",
    "    data2=data2.drop(data2[data2['dropoff_longitude']<-180].index)\n",
    "#     data2=data2.drop('pickup_datetime',axis='columns')\n",
    "    data2=data2.drop('key',axis='columns')\n",
    "    return f2(data2)\n",
    "def f2(data): #to calculate fare per person per unit distance and remove outliers acordingly\n",
    "    h_d(data,'pickup_latitude', 'pickup_longitude', 'dropoff_latitude', 'dropoff_longitude')\n",
    "    data['fare_per_person_per_unit_distance']=data['fare_amount']/(data['H_Distance'] * data['passenger_count'])\n",
    "    \n",
    "    q1=data['fare_per_person_per_unit_distance'].quantile(0.25)\n",
    "    q3=data['fare_per_person_per_unit_distance'].quantile(0.75)\n",
    "    iqr=q3-q1\n",
    "    upper_limit=q3+1.5*iqr\n",
    "    data=data.drop(data[data['fare_per_person_per_unit_distance']>=upper_limit].index)\n",
    "    data=data.drop('fare_per_person_per_unit_distance',axis=\"columns\")\n",
    "    \n",
    "    q1=data['H_Distance'].quantile(0.25)\n",
    "    q3=data['H_Distance'].quantile(0.75)\n",
    "    iqr=q3-q1\n",
    "    upper_limit=q3+1.5*iqr\n",
    "    data=data.drop(data[data['H_Distance']>=upper_limit].index)\n",
    "    \n",
    "    data=data.drop(['dropoff_latitude','dropoff_longitude','pickup_longitude','pickup_latitude'],axis='columns')\n",
    "    return f3(data)\n",
    "def f3(data): #generating day of week, year, month,etc.\n",
    "    data['year']=pd.DatetimeIndex(data['pickup_datetime']).year\n",
    "    data['month']=pd.DatetimeIndex(data['pickup_datetime']).month\n",
    "    data['day']=pd.DatetimeIndex(data['pickup_datetime']).day\n",
    "    data['hour']=pd.DatetimeIndex(data['pickup_datetime']).hour\n",
    "    data['day_of_week']=pd.to_datetime(data[['year', 'month', 'day']]).dt.day_name() \n",
    "    string_day_of_week1=data['day_of_week'].tolist() #store all days in this list\n",
    "    numerical_day_of_week1= dayofweek(string_day_of_week1) #send the list to the function\n",
    "    data=data.assign(day_of_week=numerical_day_of_week1) #put the numeric values instead of monday, tuesday...\n",
    "#     data['Year'] = data['pickup_datetime'].dt.year\n",
    "#     data['Month'] = data['pickup_datetime'].dt.month\n",
    "#     data['Date'] = data['pickup_datetime'].dt.day\n",
    "#     data['Day of Week'] = data['pickup_datetime'].dt.dayofweek\n",
    "#     data['Hour'] = data['pickup_datetime'].dt.hour\n",
    "    data=data.drop('pickup_datetime',axis='columns')\n",
    "    return f4(data)\n",
    "def f4(data):#for scaling\n",
    "    scaler_f=preprocessing.StandardScaler()\n",
    "    scaled_train_f=scaler_f.fit_transform(data)\n",
    "    scaled_traindata_f=pd.DataFrame(data = scaled_train_f, columns = data.columns)\n",
    "    return scaled_traindata_f\n"
   ]
  },
  {
   "cell_type": "markdown",
   "id": "af5a9b06",
   "metadata": {},
   "source": [
    "The function pipeline, now behaves like our needed sklearn pipeline, we just give it the raw data, and it does all the operations and customisations specific to this model, and returns the data which is ready to be trained."
   ]
  },
  {
   "cell_type": "code",
   "execution_count": 71,
   "id": "09e065bc",
   "metadata": {},
   "outputs": [
    {
     "ename": "KeyboardInterrupt",
     "evalue": "",
     "output_type": "error",
     "traceback": [
      "\u001b[1;31m---------------------------------------------------------------------------\u001b[0m",
      "\u001b[1;31mKeyboardInterrupt\u001b[0m                         Traceback (most recent call last)",
      "Input \u001b[1;32mIn [71]\u001b[0m, in \u001b[0;36m<cell line: 1>\u001b[1;34m()\u001b[0m\n\u001b[1;32m----> 1\u001b[0m ok\u001b[38;5;241m=\u001b[39m\u001b[43mpipeline\u001b[49m\u001b[43m(\u001b[49m\u001b[43mtrain\u001b[49m\u001b[43m)\u001b[49m\n",
      "Input \u001b[1;32mIn [70]\u001b[0m, in \u001b[0;36mpipeline\u001b[1;34m(data)\u001b[0m\n\u001b[0;32m     47\u001b[0m \u001b[38;5;66;03m#     data2=data2.drop('pickup_datetime',axis='columns')\u001b[39;00m\n\u001b[0;32m     48\u001b[0m     data2\u001b[38;5;241m=\u001b[39mdata2\u001b[38;5;241m.\u001b[39mdrop(\u001b[38;5;124m'\u001b[39m\u001b[38;5;124mkey\u001b[39m\u001b[38;5;124m'\u001b[39m,axis\u001b[38;5;241m=\u001b[39m\u001b[38;5;124m'\u001b[39m\u001b[38;5;124mcolumns\u001b[39m\u001b[38;5;124m'\u001b[39m)\n\u001b[1;32m---> 49\u001b[0m     \u001b[38;5;28;01mreturn\u001b[39;00m \u001b[43mf2\u001b[49m\u001b[43m(\u001b[49m\u001b[43mdata2\u001b[49m\u001b[43m)\u001b[49m\n",
      "Input \u001b[1;32mIn [70]\u001b[0m, in \u001b[0;36mf2\u001b[1;34m(data)\u001b[0m\n\u001b[0;32m     65\u001b[0m data\u001b[38;5;241m=\u001b[39mdata\u001b[38;5;241m.\u001b[39mdrop(data[data[\u001b[38;5;124m'\u001b[39m\u001b[38;5;124mH_Distance\u001b[39m\u001b[38;5;124m'\u001b[39m]\u001b[38;5;241m>\u001b[39m\u001b[38;5;241m=\u001b[39mupper_limit]\u001b[38;5;241m.\u001b[39mindex)\n\u001b[0;32m     67\u001b[0m data\u001b[38;5;241m=\u001b[39mdata\u001b[38;5;241m.\u001b[39mdrop([\u001b[38;5;124m'\u001b[39m\u001b[38;5;124mdropoff_latitude\u001b[39m\u001b[38;5;124m'\u001b[39m,\u001b[38;5;124m'\u001b[39m\u001b[38;5;124mdropoff_longitude\u001b[39m\u001b[38;5;124m'\u001b[39m,\u001b[38;5;124m'\u001b[39m\u001b[38;5;124mpickup_longitude\u001b[39m\u001b[38;5;124m'\u001b[39m,\u001b[38;5;124m'\u001b[39m\u001b[38;5;124mpickup_latitude\u001b[39m\u001b[38;5;124m'\u001b[39m],axis\u001b[38;5;241m=\u001b[39m\u001b[38;5;124m'\u001b[39m\u001b[38;5;124mcolumns\u001b[39m\u001b[38;5;124m'\u001b[39m)\n\u001b[1;32m---> 68\u001b[0m \u001b[38;5;28;01mreturn\u001b[39;00m \u001b[43mf3\u001b[49m\u001b[43m(\u001b[49m\u001b[43mdata\u001b[49m\u001b[43m)\u001b[49m\n",
      "Input \u001b[1;32mIn [70]\u001b[0m, in \u001b[0;36mf3\u001b[1;34m(data)\u001b[0m\n\u001b[0;32m     70\u001b[0m data[\u001b[38;5;124m'\u001b[39m\u001b[38;5;124myear\u001b[39m\u001b[38;5;124m'\u001b[39m]\u001b[38;5;241m=\u001b[39mpd\u001b[38;5;241m.\u001b[39mDatetimeIndex(data[\u001b[38;5;124m'\u001b[39m\u001b[38;5;124mpickup_datetime\u001b[39m\u001b[38;5;124m'\u001b[39m])\u001b[38;5;241m.\u001b[39myear\n\u001b[0;32m     71\u001b[0m data[\u001b[38;5;124m'\u001b[39m\u001b[38;5;124mmonth\u001b[39m\u001b[38;5;124m'\u001b[39m]\u001b[38;5;241m=\u001b[39mpd\u001b[38;5;241m.\u001b[39mDatetimeIndex(data[\u001b[38;5;124m'\u001b[39m\u001b[38;5;124mpickup_datetime\u001b[39m\u001b[38;5;124m'\u001b[39m])\u001b[38;5;241m.\u001b[39mmonth\n\u001b[1;32m---> 72\u001b[0m data[\u001b[38;5;124m'\u001b[39m\u001b[38;5;124mday\u001b[39m\u001b[38;5;124m'\u001b[39m]\u001b[38;5;241m=\u001b[39m\u001b[43mpd\u001b[49m\u001b[38;5;241;43m.\u001b[39;49m\u001b[43mDatetimeIndex\u001b[49m\u001b[43m(\u001b[49m\u001b[43mdata\u001b[49m\u001b[43m[\u001b[49m\u001b[38;5;124;43m'\u001b[39;49m\u001b[38;5;124;43mpickup_datetime\u001b[39;49m\u001b[38;5;124;43m'\u001b[39;49m\u001b[43m]\u001b[49m\u001b[43m)\u001b[49m\u001b[38;5;241m.\u001b[39mday\n\u001b[0;32m     73\u001b[0m data[\u001b[38;5;124m'\u001b[39m\u001b[38;5;124mhour\u001b[39m\u001b[38;5;124m'\u001b[39m]\u001b[38;5;241m=\u001b[39mpd\u001b[38;5;241m.\u001b[39mDatetimeIndex(data[\u001b[38;5;124m'\u001b[39m\u001b[38;5;124mpickup_datetime\u001b[39m\u001b[38;5;124m'\u001b[39m])\u001b[38;5;241m.\u001b[39mhour\n\u001b[0;32m     74\u001b[0m data[\u001b[38;5;124m'\u001b[39m\u001b[38;5;124mday_of_week\u001b[39m\u001b[38;5;124m'\u001b[39m]\u001b[38;5;241m=\u001b[39mpd\u001b[38;5;241m.\u001b[39mto_datetime(data[[\u001b[38;5;124m'\u001b[39m\u001b[38;5;124myear\u001b[39m\u001b[38;5;124m'\u001b[39m, \u001b[38;5;124m'\u001b[39m\u001b[38;5;124mmonth\u001b[39m\u001b[38;5;124m'\u001b[39m, \u001b[38;5;124m'\u001b[39m\u001b[38;5;124mday\u001b[39m\u001b[38;5;124m'\u001b[39m]])\u001b[38;5;241m.\u001b[39mdt\u001b[38;5;241m.\u001b[39mday_name() \n",
      "File \u001b[1;32m~\\anaconda3\\lib\\site-packages\\pandas\\core\\indexes\\datetimes.py:327\u001b[0m, in \u001b[0;36mDatetimeIndex.__new__\u001b[1;34m(cls, data, freq, tz, normalize, closed, ambiguous, dayfirst, yearfirst, dtype, copy, name)\u001b[0m\n\u001b[0;32m    323\u001b[0m \u001b[38;5;66;03m# - Cases checked above all return/raise before reaching here - #\u001b[39;00m\n\u001b[0;32m    325\u001b[0m name \u001b[38;5;241m=\u001b[39m maybe_extract_name(name, data, \u001b[38;5;28mcls\u001b[39m)\n\u001b[1;32m--> 327\u001b[0m dtarr \u001b[38;5;241m=\u001b[39m \u001b[43mDatetimeArray\u001b[49m\u001b[38;5;241;43m.\u001b[39;49m\u001b[43m_from_sequence_not_strict\u001b[49m\u001b[43m(\u001b[49m\n\u001b[0;32m    328\u001b[0m \u001b[43m    \u001b[49m\u001b[43mdata\u001b[49m\u001b[43m,\u001b[49m\n\u001b[0;32m    329\u001b[0m \u001b[43m    \u001b[49m\u001b[43mdtype\u001b[49m\u001b[38;5;241;43m=\u001b[39;49m\u001b[43mdtype\u001b[49m\u001b[43m,\u001b[49m\n\u001b[0;32m    330\u001b[0m \u001b[43m    \u001b[49m\u001b[43mcopy\u001b[49m\u001b[38;5;241;43m=\u001b[39;49m\u001b[43mcopy\u001b[49m\u001b[43m,\u001b[49m\n\u001b[0;32m    331\u001b[0m \u001b[43m    \u001b[49m\u001b[43mtz\u001b[49m\u001b[38;5;241;43m=\u001b[39;49m\u001b[43mtz\u001b[49m\u001b[43m,\u001b[49m\n\u001b[0;32m    332\u001b[0m \u001b[43m    \u001b[49m\u001b[43mfreq\u001b[49m\u001b[38;5;241;43m=\u001b[39;49m\u001b[43mfreq\u001b[49m\u001b[43m,\u001b[49m\n\u001b[0;32m    333\u001b[0m \u001b[43m    \u001b[49m\u001b[43mdayfirst\u001b[49m\u001b[38;5;241;43m=\u001b[39;49m\u001b[43mdayfirst\u001b[49m\u001b[43m,\u001b[49m\n\u001b[0;32m    334\u001b[0m \u001b[43m    \u001b[49m\u001b[43myearfirst\u001b[49m\u001b[38;5;241;43m=\u001b[39;49m\u001b[43myearfirst\u001b[49m\u001b[43m,\u001b[49m\n\u001b[0;32m    335\u001b[0m \u001b[43m    \u001b[49m\u001b[43mambiguous\u001b[49m\u001b[38;5;241;43m=\u001b[39;49m\u001b[43mambiguous\u001b[49m\u001b[43m,\u001b[49m\n\u001b[0;32m    336\u001b[0m \u001b[43m\u001b[49m\u001b[43m)\u001b[49m\n\u001b[0;32m    338\u001b[0m subarr \u001b[38;5;241m=\u001b[39m \u001b[38;5;28mcls\u001b[39m\u001b[38;5;241m.\u001b[39m_simple_new(dtarr, name\u001b[38;5;241m=\u001b[39mname)\n\u001b[0;32m    339\u001b[0m \u001b[38;5;28;01mreturn\u001b[39;00m subarr\n",
      "File \u001b[1;32m~\\anaconda3\\lib\\site-packages\\pandas\\core\\arrays\\datetimes.py:358\u001b[0m, in \u001b[0;36mDatetimeArray._from_sequence_not_strict\u001b[1;34m(cls, data, dtype, copy, tz, freq, dayfirst, yearfirst, ambiguous)\u001b[0m\n\u001b[0;32m    354\u001b[0m freq \u001b[38;5;241m=\u001b[39m freq \u001b[38;5;28;01mif\u001b[39;00m freq \u001b[38;5;129;01mis\u001b[39;00m \u001b[38;5;129;01mnot\u001b[39;00m lib\u001b[38;5;241m.\u001b[39mno_default \u001b[38;5;28;01melse\u001b[39;00m \u001b[38;5;28;01mNone\u001b[39;00m\n\u001b[0;32m    356\u001b[0m freq, freq_infer \u001b[38;5;241m=\u001b[39m dtl\u001b[38;5;241m.\u001b[39mmaybe_infer_freq(freq)\n\u001b[1;32m--> 358\u001b[0m subarr, tz, inferred_freq \u001b[38;5;241m=\u001b[39m \u001b[43m_sequence_to_dt64ns\u001b[49m\u001b[43m(\u001b[49m\n\u001b[0;32m    359\u001b[0m \u001b[43m    \u001b[49m\u001b[43mdata\u001b[49m\u001b[43m,\u001b[49m\n\u001b[0;32m    360\u001b[0m \u001b[43m    \u001b[49m\u001b[43mdtype\u001b[49m\u001b[38;5;241;43m=\u001b[39;49m\u001b[43mdtype\u001b[49m\u001b[43m,\u001b[49m\n\u001b[0;32m    361\u001b[0m \u001b[43m    \u001b[49m\u001b[43mcopy\u001b[49m\u001b[38;5;241;43m=\u001b[39;49m\u001b[43mcopy\u001b[49m\u001b[43m,\u001b[49m\n\u001b[0;32m    362\u001b[0m \u001b[43m    \u001b[49m\u001b[43mtz\u001b[49m\u001b[38;5;241;43m=\u001b[39;49m\u001b[43mtz\u001b[49m\u001b[43m,\u001b[49m\n\u001b[0;32m    363\u001b[0m \u001b[43m    \u001b[49m\u001b[43mdayfirst\u001b[49m\u001b[38;5;241;43m=\u001b[39;49m\u001b[43mdayfirst\u001b[49m\u001b[43m,\u001b[49m\n\u001b[0;32m    364\u001b[0m \u001b[43m    \u001b[49m\u001b[43myearfirst\u001b[49m\u001b[38;5;241;43m=\u001b[39;49m\u001b[43myearfirst\u001b[49m\u001b[43m,\u001b[49m\n\u001b[0;32m    365\u001b[0m \u001b[43m    \u001b[49m\u001b[43mambiguous\u001b[49m\u001b[38;5;241;43m=\u001b[39;49m\u001b[43mambiguous\u001b[49m\u001b[43m,\u001b[49m\n\u001b[0;32m    366\u001b[0m \u001b[43m\u001b[49m\u001b[43m)\u001b[49m\n\u001b[0;32m    368\u001b[0m freq, freq_infer \u001b[38;5;241m=\u001b[39m dtl\u001b[38;5;241m.\u001b[39mvalidate_inferred_freq(freq, inferred_freq, freq_infer)\n\u001b[0;32m    369\u001b[0m \u001b[38;5;28;01mif\u001b[39;00m explicit_none:\n",
      "File \u001b[1;32m~\\anaconda3\\lib\\site-packages\\pandas\\core\\arrays\\datetimes.py:2082\u001b[0m, in \u001b[0;36m_sequence_to_dt64ns\u001b[1;34m(data, dtype, copy, tz, dayfirst, yearfirst, ambiguous, allow_mixed, require_iso8601)\u001b[0m\n\u001b[0;32m   2078\u001b[0m     data \u001b[38;5;241m=\u001b[39m data\u001b[38;5;241m.\u001b[39mastype(np\u001b[38;5;241m.\u001b[39mint64)\n\u001b[0;32m   2079\u001b[0m \u001b[38;5;28;01melse\u001b[39;00m:\n\u001b[0;32m   2080\u001b[0m     \u001b[38;5;66;03m# data comes back here as either i8 to denote UTC timestamps\u001b[39;00m\n\u001b[0;32m   2081\u001b[0m     \u001b[38;5;66;03m#  or M8[ns] to denote wall times\u001b[39;00m\n\u001b[1;32m-> 2082\u001b[0m     data, inferred_tz \u001b[38;5;241m=\u001b[39m \u001b[43mobjects_to_datetime64ns\u001b[49m\u001b[43m(\u001b[49m\n\u001b[0;32m   2083\u001b[0m \u001b[43m        \u001b[49m\u001b[43mdata\u001b[49m\u001b[43m,\u001b[49m\n\u001b[0;32m   2084\u001b[0m \u001b[43m        \u001b[49m\u001b[43mdayfirst\u001b[49m\u001b[38;5;241;43m=\u001b[39;49m\u001b[43mdayfirst\u001b[49m\u001b[43m,\u001b[49m\n\u001b[0;32m   2085\u001b[0m \u001b[43m        \u001b[49m\u001b[43myearfirst\u001b[49m\u001b[38;5;241;43m=\u001b[39;49m\u001b[43myearfirst\u001b[49m\u001b[43m,\u001b[49m\n\u001b[0;32m   2086\u001b[0m \u001b[43m        \u001b[49m\u001b[43mallow_object\u001b[49m\u001b[38;5;241;43m=\u001b[39;49m\u001b[38;5;28;43;01mFalse\u001b[39;49;00m\u001b[43m,\u001b[49m\n\u001b[0;32m   2087\u001b[0m \u001b[43m        \u001b[49m\u001b[43mallow_mixed\u001b[49m\u001b[38;5;241;43m=\u001b[39;49m\u001b[43mallow_mixed\u001b[49m\u001b[43m,\u001b[49m\n\u001b[0;32m   2088\u001b[0m \u001b[43m        \u001b[49m\u001b[43mrequire_iso8601\u001b[49m\u001b[38;5;241;43m=\u001b[39;49m\u001b[43mrequire_iso8601\u001b[49m\u001b[43m,\u001b[49m\n\u001b[0;32m   2089\u001b[0m \u001b[43m    \u001b[49m\u001b[43m)\u001b[49m\n\u001b[0;32m   2090\u001b[0m     \u001b[38;5;28;01mif\u001b[39;00m tz \u001b[38;5;129;01mand\u001b[39;00m inferred_tz:\n\u001b[0;32m   2091\u001b[0m         \u001b[38;5;66;03m#  two timezones: convert to intended from base UTC repr\u001b[39;00m\n\u001b[0;32m   2092\u001b[0m         \u001b[38;5;28;01mif\u001b[39;00m data\u001b[38;5;241m.\u001b[39mdtype \u001b[38;5;241m==\u001b[39m \u001b[38;5;124m\"\u001b[39m\u001b[38;5;124mi8\u001b[39m\u001b[38;5;124m\"\u001b[39m:\n\u001b[0;32m   2093\u001b[0m             \u001b[38;5;66;03m# GH#42505\u001b[39;00m\n\u001b[0;32m   2094\u001b[0m             \u001b[38;5;66;03m# by convention, these are _already_ UTC, e.g\u001b[39;00m\n",
      "File \u001b[1;32m~\\anaconda3\\lib\\site-packages\\pandas\\core\\arrays\\datetimes.py:2199\u001b[0m, in \u001b[0;36mobjects_to_datetime64ns\u001b[1;34m(data, dayfirst, yearfirst, utc, errors, require_iso8601, allow_object, allow_mixed)\u001b[0m\n\u001b[0;32m   2197\u001b[0m order: Literal[\u001b[38;5;124m\"\u001b[39m\u001b[38;5;124mF\u001b[39m\u001b[38;5;124m\"\u001b[39m, \u001b[38;5;124m\"\u001b[39m\u001b[38;5;124mC\u001b[39m\u001b[38;5;124m\"\u001b[39m] \u001b[38;5;241m=\u001b[39m \u001b[38;5;124m\"\u001b[39m\u001b[38;5;124mF\u001b[39m\u001b[38;5;124m\"\u001b[39m \u001b[38;5;28;01mif\u001b[39;00m flags\u001b[38;5;241m.\u001b[39mf_contiguous \u001b[38;5;28;01melse\u001b[39;00m \u001b[38;5;124m\"\u001b[39m\u001b[38;5;124mC\u001b[39m\u001b[38;5;124m\"\u001b[39m\n\u001b[0;32m   2198\u001b[0m \u001b[38;5;28;01mtry\u001b[39;00m:\n\u001b[1;32m-> 2199\u001b[0m     result, tz_parsed \u001b[38;5;241m=\u001b[39m \u001b[43mtslib\u001b[49m\u001b[38;5;241;43m.\u001b[39;49m\u001b[43marray_to_datetime\u001b[49m\u001b[43m(\u001b[49m\n\u001b[0;32m   2200\u001b[0m \u001b[43m        \u001b[49m\u001b[43mdata\u001b[49m\u001b[38;5;241;43m.\u001b[39;49m\u001b[43mravel\u001b[49m\u001b[43m(\u001b[49m\u001b[38;5;124;43m\"\u001b[39;49m\u001b[38;5;124;43mK\u001b[39;49m\u001b[38;5;124;43m\"\u001b[39;49m\u001b[43m)\u001b[49m\u001b[43m,\u001b[49m\n\u001b[0;32m   2201\u001b[0m \u001b[43m        \u001b[49m\u001b[43merrors\u001b[49m\u001b[38;5;241;43m=\u001b[39;49m\u001b[43merrors\u001b[49m\u001b[43m,\u001b[49m\n\u001b[0;32m   2202\u001b[0m \u001b[43m        \u001b[49m\u001b[43mutc\u001b[49m\u001b[38;5;241;43m=\u001b[39;49m\u001b[43mutc\u001b[49m\u001b[43m,\u001b[49m\n\u001b[0;32m   2203\u001b[0m \u001b[43m        \u001b[49m\u001b[43mdayfirst\u001b[49m\u001b[38;5;241;43m=\u001b[39;49m\u001b[43mdayfirst\u001b[49m\u001b[43m,\u001b[49m\n\u001b[0;32m   2204\u001b[0m \u001b[43m        \u001b[49m\u001b[43myearfirst\u001b[49m\u001b[38;5;241;43m=\u001b[39;49m\u001b[43myearfirst\u001b[49m\u001b[43m,\u001b[49m\n\u001b[0;32m   2205\u001b[0m \u001b[43m        \u001b[49m\u001b[43mrequire_iso8601\u001b[49m\u001b[38;5;241;43m=\u001b[39;49m\u001b[43mrequire_iso8601\u001b[49m\u001b[43m,\u001b[49m\n\u001b[0;32m   2206\u001b[0m \u001b[43m        \u001b[49m\u001b[43mallow_mixed\u001b[49m\u001b[38;5;241;43m=\u001b[39;49m\u001b[43mallow_mixed\u001b[49m\u001b[43m,\u001b[49m\n\u001b[0;32m   2207\u001b[0m \u001b[43m    \u001b[49m\u001b[43m)\u001b[49m\n\u001b[0;32m   2208\u001b[0m     result \u001b[38;5;241m=\u001b[39m result\u001b[38;5;241m.\u001b[39mreshape(data\u001b[38;5;241m.\u001b[39mshape, order\u001b[38;5;241m=\u001b[39morder)\n\u001b[0;32m   2209\u001b[0m \u001b[38;5;28;01mexcept\u001b[39;00m \u001b[38;5;167;01mValueError\u001b[39;00m \u001b[38;5;28;01mas\u001b[39;00m err:\n",
      "File \u001b[1;32m~\\anaconda3\\lib\\site-packages\\pandas\\_libs\\tslib.pyx:381\u001b[0m, in \u001b[0;36mpandas._libs.tslib.array_to_datetime\u001b[1;34m()\u001b[0m\n",
      "File \u001b[1;32m~\\anaconda3\\lib\\site-packages\\pandas\\_libs\\tslib.pyx:536\u001b[0m, in \u001b[0;36mpandas._libs.tslib.array_to_datetime\u001b[1;34m()\u001b[0m\n",
      "File \u001b[1;32m~\\anaconda3\\lib\\site-packages\\pandas\\_libs\\tslibs\\parsing.pyx:281\u001b[0m, in \u001b[0;36mpandas._libs.tslibs.parsing.parse_datetime_string\u001b[1;34m()\u001b[0m\n",
      "File \u001b[1;32m~\\anaconda3\\lib\\site-packages\\dateutil\\parser\\_parser.py:1368\u001b[0m, in \u001b[0;36mparse\u001b[1;34m(timestr, parserinfo, **kwargs)\u001b[0m\n\u001b[0;32m   1366\u001b[0m     \u001b[38;5;28;01mreturn\u001b[39;00m parser(parserinfo)\u001b[38;5;241m.\u001b[39mparse(timestr, \u001b[38;5;241m*\u001b[39m\u001b[38;5;241m*\u001b[39mkwargs)\n\u001b[0;32m   1367\u001b[0m \u001b[38;5;28;01melse\u001b[39;00m:\n\u001b[1;32m-> 1368\u001b[0m     \u001b[38;5;28;01mreturn\u001b[39;00m DEFAULTPARSER\u001b[38;5;241m.\u001b[39mparse(timestr, \u001b[38;5;241m*\u001b[39m\u001b[38;5;241m*\u001b[39mkwargs)\n",
      "File \u001b[1;32m~\\anaconda3\\lib\\site-packages\\dateutil\\parser\\_parser.py:640\u001b[0m, in \u001b[0;36mparser.parse\u001b[1;34m(self, timestr, default, ignoretz, tzinfos, **kwargs)\u001b[0m\n\u001b[0;32m    636\u001b[0m \u001b[38;5;28;01mif\u001b[39;00m default \u001b[38;5;129;01mis\u001b[39;00m \u001b[38;5;28;01mNone\u001b[39;00m:\n\u001b[0;32m    637\u001b[0m     default \u001b[38;5;241m=\u001b[39m datetime\u001b[38;5;241m.\u001b[39mdatetime\u001b[38;5;241m.\u001b[39mnow()\u001b[38;5;241m.\u001b[39mreplace(hour\u001b[38;5;241m=\u001b[39m\u001b[38;5;241m0\u001b[39m, minute\u001b[38;5;241m=\u001b[39m\u001b[38;5;241m0\u001b[39m,\n\u001b[0;32m    638\u001b[0m                                               second\u001b[38;5;241m=\u001b[39m\u001b[38;5;241m0\u001b[39m, microsecond\u001b[38;5;241m=\u001b[39m\u001b[38;5;241m0\u001b[39m)\n\u001b[1;32m--> 640\u001b[0m res, skipped_tokens \u001b[38;5;241m=\u001b[39m \u001b[38;5;28mself\u001b[39m\u001b[38;5;241m.\u001b[39m_parse(timestr, \u001b[38;5;241m*\u001b[39m\u001b[38;5;241m*\u001b[39mkwargs)\n\u001b[0;32m    642\u001b[0m \u001b[38;5;28;01mif\u001b[39;00m res \u001b[38;5;129;01mis\u001b[39;00m \u001b[38;5;28;01mNone\u001b[39;00m:\n\u001b[0;32m    643\u001b[0m     \u001b[38;5;28;01mraise\u001b[39;00m ParserError(\u001b[38;5;124m\"\u001b[39m\u001b[38;5;124mUnknown string format: \u001b[39m\u001b[38;5;132;01m%s\u001b[39;00m\u001b[38;5;124m\"\u001b[39m, timestr)\n",
      "File \u001b[1;32m~\\anaconda3\\lib\\site-packages\\dateutil\\parser\\_parser.py:740\u001b[0m, in \u001b[0;36mparser._parse\u001b[1;34m(self, timestr, dayfirst, yearfirst, fuzzy, fuzzy_with_tokens)\u001b[0m\n\u001b[0;32m    736\u001b[0m     value \u001b[38;5;241m=\u001b[39m \u001b[38;5;28;01mNone\u001b[39;00m\n\u001b[0;32m    738\u001b[0m \u001b[38;5;28;01mif\u001b[39;00m value \u001b[38;5;129;01mis\u001b[39;00m \u001b[38;5;129;01mnot\u001b[39;00m \u001b[38;5;28;01mNone\u001b[39;00m:\n\u001b[0;32m    739\u001b[0m     \u001b[38;5;66;03m# Numeric token\u001b[39;00m\n\u001b[1;32m--> 740\u001b[0m     i \u001b[38;5;241m=\u001b[39m \u001b[38;5;28;43mself\u001b[39;49m\u001b[38;5;241;43m.\u001b[39;49m\u001b[43m_parse_numeric_token\u001b[49m\u001b[43m(\u001b[49m\u001b[43ml\u001b[49m\u001b[43m,\u001b[49m\u001b[43m \u001b[49m\u001b[43mi\u001b[49m\u001b[43m,\u001b[49m\u001b[43m \u001b[49m\u001b[43minfo\u001b[49m\u001b[43m,\u001b[49m\u001b[43m \u001b[49m\u001b[43mymd\u001b[49m\u001b[43m,\u001b[49m\u001b[43m \u001b[49m\u001b[43mres\u001b[49m\u001b[43m,\u001b[49m\u001b[43m \u001b[49m\u001b[43mfuzzy\u001b[49m\u001b[43m)\u001b[49m\n\u001b[0;32m    742\u001b[0m \u001b[38;5;66;03m# Check weekday\u001b[39;00m\n\u001b[0;32m    743\u001b[0m \u001b[38;5;28;01melif\u001b[39;00m info\u001b[38;5;241m.\u001b[39mweekday(l[i]) \u001b[38;5;129;01mis\u001b[39;00m \u001b[38;5;129;01mnot\u001b[39;00m \u001b[38;5;28;01mNone\u001b[39;00m:\n",
      "File \u001b[1;32m~\\anaconda3\\lib\\site-packages\\dateutil\\parser\\_parser.py:970\u001b[0m, in \u001b[0;36mparser._parse_numeric_token\u001b[1;34m(self, tokens, idx, info, ymd, res, fuzzy)\u001b[0m\n\u001b[0;32m    966\u001b[0m         \u001b[38;5;28;01mraise\u001b[39;00m \u001b[38;5;167;01mValueError\u001b[39;00m()\n\u001b[0;32m    968\u001b[0m \u001b[38;5;28;01mif\u001b[39;00m idx \u001b[38;5;241m+\u001b[39m \u001b[38;5;241m3\u001b[39m \u001b[38;5;241m<\u001b[39m len_l \u001b[38;5;129;01mand\u001b[39;00m tokens[idx \u001b[38;5;241m+\u001b[39m \u001b[38;5;241m3\u001b[39m] \u001b[38;5;241m==\u001b[39m sep:\n\u001b[0;32m    969\u001b[0m     \u001b[38;5;66;03m# We have three members\u001b[39;00m\n\u001b[1;32m--> 970\u001b[0m     value \u001b[38;5;241m=\u001b[39m \u001b[43minfo\u001b[49m\u001b[38;5;241;43m.\u001b[39;49m\u001b[43mmonth\u001b[49m\u001b[43m(\u001b[49m\u001b[43mtokens\u001b[49m\u001b[43m[\u001b[49m\u001b[43midx\u001b[49m\u001b[43m \u001b[49m\u001b[38;5;241;43m+\u001b[39;49m\u001b[43m \u001b[49m\u001b[38;5;241;43m4\u001b[39;49m\u001b[43m]\u001b[49m\u001b[43m)\u001b[49m\n\u001b[0;32m    972\u001b[0m     \u001b[38;5;28;01mif\u001b[39;00m value \u001b[38;5;129;01mis\u001b[39;00m \u001b[38;5;129;01mnot\u001b[39;00m \u001b[38;5;28;01mNone\u001b[39;00m:\n\u001b[0;32m    973\u001b[0m         ymd\u001b[38;5;241m.\u001b[39mappend(value, \u001b[38;5;124m'\u001b[39m\u001b[38;5;124mM\u001b[39m\u001b[38;5;124m'\u001b[39m)\n",
      "File \u001b[1;32m~\\anaconda3\\lib\\site-packages\\dateutil\\parser\\_parser.py:330\u001b[0m, in \u001b[0;36mparserinfo.month\u001b[1;34m(self, name)\u001b[0m\n\u001b[0;32m    329\u001b[0m \u001b[38;5;28;01mdef\u001b[39;00m \u001b[38;5;21mmonth\u001b[39m(\u001b[38;5;28mself\u001b[39m, name):\n\u001b[1;32m--> 330\u001b[0m     \u001b[38;5;28;01mtry\u001b[39;00m:\n\u001b[0;32m    331\u001b[0m         \u001b[38;5;28;01mreturn\u001b[39;00m \u001b[38;5;28mself\u001b[39m\u001b[38;5;241m.\u001b[39m_months[name\u001b[38;5;241m.\u001b[39mlower()] \u001b[38;5;241m+\u001b[39m \u001b[38;5;241m1\u001b[39m\n\u001b[0;32m    332\u001b[0m     \u001b[38;5;28;01mexcept\u001b[39;00m \u001b[38;5;167;01mKeyError\u001b[39;00m:\n",
      "\u001b[1;31mKeyboardInterrupt\u001b[0m: "
     ]
    }
   ],
   "source": [
    "ok=pipeline(train) #pass the raw data to the pipeline, the dataset returned is ready to be regressed"
   ]
  },
  {
   "cell_type": "markdown",
   "id": "51f7fced",
   "metadata": {},
   "source": [
    "##  Part D"
   ]
  },
  {
   "cell_type": "markdown",
   "id": "4a0f0f48",
   "metadata": {},
   "source": [
    "k-fold cross validation"
   ]
  },
  {
   "cell_type": "code",
   "execution_count": 72,
   "id": "839dbfb8",
   "metadata": {},
   "outputs": [],
   "source": [
    "k=3\n",
    "n=len(scaled_traindata)\n",
    "i=0\n",
    "size=n//k\n",
    "start=0\n",
    "end=start+size\n",
    "dtestx={}\n",
    "dtrainx={}\n",
    "dtesty={}\n",
    "dtrainy={}\n",
    "while(end<=n):\n",
    "    temp_test=scaled_traindata.iloc[start:end]\n",
    "    temp_train=pd.concat([scaled_traindata.iloc[:start],scaled_traindata.iloc[end:]])\n",
    "    dtesty[i]=temp_test['fare_amount']\n",
    "    dtestx[i]=temp_test.drop('fare_amount',axis=\"columns\")\n",
    "    dtrainy[i]=temp_train['fare_amount']\n",
    "    dtrainx[i]=temp_train.drop('fare_amount',axis=\"columns\")\n",
    "    i+=1\n",
    "    start=end\n",
    "    end=start+size"
   ]
  },
  {
   "cell_type": "code",
   "execution_count": 73,
   "id": "4b67cea2",
   "metadata": {},
   "outputs": [],
   "source": [
    "from scipy import linalg"
   ]
  },
  {
   "cell_type": "code",
   "execution_count": 74,
   "id": "f8eacb57",
   "metadata": {},
   "outputs": [],
   "source": [
    "i=0\n",
    "while(i<k):\n",
    "    a_matrix=(dtrainx[i]).to_numpy()\n",
    "    y_matrix=(dtrainy[i]).to_numpy()\n",
    "    #w_matrix=pseudoinverse(a_matrix).y_matrix\n",
    "    w_matrix=(np.linalg.pinv(a_matrix))*(y_matrix)    \n",
    "    i+=1    "
   ]
  },
  {
   "cell_type": "markdown",
   "id": "786fa412",
   "metadata": {},
   "source": [
    "##  PartE"
   ]
  },
  {
   "cell_type": "markdown",
   "id": "abe86af1",
   "metadata": {},
   "source": [
    "Linear regression model"
   ]
  },
  {
   "cell_type": "markdown",
   "id": "b74bc100",
   "metadata": {},
   "source": [
    "1. matrix-based approach"
   ]
  },
  {
   "cell_type": "code",
   "execution_count": 75,
   "id": "7c615ce7",
   "metadata": {},
   "outputs": [],
   "source": [
    "from sklearn.model_selection import train_test_split"
   ]
  },
  {
   "cell_type": "code",
   "execution_count": 76,
   "id": "4f2b6ba8",
   "metadata": {},
   "outputs": [],
   "source": [
    "def matrix_lr(scaled_traindata):\n",
    "    x_train,x_test,y_train,y_test=train_test_split(np.array(scaled_traindata.drop('fare_amount',axis='columns')),np.array(scaled_traindata['fare_amount']),test_size=0.3)\n",
    "    return model1(x_train,y_train,0.01,50)"
   ]
  },
  {
   "cell_type": "code",
   "execution_count": 77,
   "id": "df1c57a6",
   "metadata": {},
   "outputs": [],
   "source": [
    "def model1(X,Y,lrate,itern): \n",
    "    m=Y.size\n",
    "    theta=np.zeros((6,1))\n",
    "    for i in range(1):\n",
    "        y_pred=np.dot(X,theta)\n",
    "        cost=(1/(2*m))*np.sum(np.square(y_pred-Y))\n",
    "        print(y_pred)\n",
    "        print(Y)\n",
    "        d_theta=(1/m)*np.dot(X.T,y_pred-Y)\n",
    "        theta-=lrate*d_theta\n",
    "    return theta\n",
    "    "
   ]
  },
  {
   "cell_type": "code",
   "execution_count": 78,
   "id": "d7bdb818",
   "metadata": {},
   "outputs": [
    {
     "ename": "MemoryError",
     "evalue": "Unable to allocate 2.57 TiB for an array with shape (594832, 594832) and data type float64",
     "output_type": "error",
     "traceback": [
      "\u001b[1;31m---------------------------------------------------------------------------\u001b[0m",
      "\u001b[1;31mMemoryError\u001b[0m                               Traceback (most recent call last)",
      "Input \u001b[1;32mIn [78]\u001b[0m, in \u001b[0;36m<cell line: 1>\u001b[1;34m()\u001b[0m\n\u001b[1;32m----> 1\u001b[0m theta \u001b[38;5;241m=\u001b[39m \u001b[43mmatrix_lr\u001b[49m\u001b[43m(\u001b[49m\u001b[43mscaled_traindata\u001b[49m\u001b[43m)\u001b[49m\n",
      "Input \u001b[1;32mIn [76]\u001b[0m, in \u001b[0;36mmatrix_lr\u001b[1;34m(scaled_traindata)\u001b[0m\n\u001b[0;32m      1\u001b[0m \u001b[38;5;28;01mdef\u001b[39;00m \u001b[38;5;21mmatrix_lr\u001b[39m(scaled_traindata):\n\u001b[0;32m      2\u001b[0m     x_train,x_test,y_train,y_test\u001b[38;5;241m=\u001b[39mtrain_test_split(np\u001b[38;5;241m.\u001b[39marray(scaled_traindata\u001b[38;5;241m.\u001b[39mdrop(\u001b[38;5;124m'\u001b[39m\u001b[38;5;124mfare_amount\u001b[39m\u001b[38;5;124m'\u001b[39m,axis\u001b[38;5;241m=\u001b[39m\u001b[38;5;124m'\u001b[39m\u001b[38;5;124mcolumns\u001b[39m\u001b[38;5;124m'\u001b[39m)),np\u001b[38;5;241m.\u001b[39marray(scaled_traindata[\u001b[38;5;124m'\u001b[39m\u001b[38;5;124mfare_amount\u001b[39m\u001b[38;5;124m'\u001b[39m]),test_size\u001b[38;5;241m=\u001b[39m\u001b[38;5;241m0.3\u001b[39m)\n\u001b[1;32m----> 3\u001b[0m     \u001b[38;5;28;01mreturn\u001b[39;00m \u001b[43mmodel1\u001b[49m\u001b[43m(\u001b[49m\u001b[43mx_train\u001b[49m\u001b[43m,\u001b[49m\u001b[43my_train\u001b[49m\u001b[43m,\u001b[49m\u001b[38;5;241;43m0.01\u001b[39;49m\u001b[43m,\u001b[49m\u001b[38;5;241;43m50\u001b[39;49m\u001b[43m)\u001b[49m\n",
      "Input \u001b[1;32mIn [77]\u001b[0m, in \u001b[0;36mmodel1\u001b[1;34m(X, Y, lrate, itern)\u001b[0m\n\u001b[0;32m      4\u001b[0m \u001b[38;5;28;01mfor\u001b[39;00m i \u001b[38;5;129;01min\u001b[39;00m \u001b[38;5;28mrange\u001b[39m(\u001b[38;5;241m1\u001b[39m):\n\u001b[0;32m      5\u001b[0m     y_pred\u001b[38;5;241m=\u001b[39mnp\u001b[38;5;241m.\u001b[39mdot(X,theta)\n\u001b[1;32m----> 6\u001b[0m     cost\u001b[38;5;241m=\u001b[39m(\u001b[38;5;241m1\u001b[39m\u001b[38;5;241m/\u001b[39m(\u001b[38;5;241m2\u001b[39m\u001b[38;5;241m*\u001b[39mm))\u001b[38;5;241m*\u001b[39mnp\u001b[38;5;241m.\u001b[39msum(np\u001b[38;5;241m.\u001b[39msquare(\u001b[43my_pred\u001b[49m\u001b[38;5;241;43m-\u001b[39;49m\u001b[43mY\u001b[49m))\n\u001b[0;32m      7\u001b[0m     \u001b[38;5;28mprint\u001b[39m(y_pred)\n\u001b[0;32m      8\u001b[0m     \u001b[38;5;28mprint\u001b[39m(Y)\n",
      "\u001b[1;31mMemoryError\u001b[0m: Unable to allocate 2.57 TiB for an array with shape (594832, 594832) and data type float64"
     ]
    }
   ],
   "source": [
    "theta = matrix_lr(scaled_traindata)\n",
    "#facing memory error, because the entire dataset can't be loaded into the RAM\n",
    "# disadvantage of running large dataset-based ML models locally with limited resources"
   ]
  },
  {
   "cell_type": "markdown",
   "id": "3d5b253b",
   "metadata": {},
   "source": [
    "2. optimisation based approach [stochastic gradient descent]"
   ]
  },
  {
   "cell_type": "code",
   "execution_count": 79,
   "id": "385687b8",
   "metadata": {},
   "outputs": [
    {
     "data": {
      "text/plain": [
       "0.6887552995681929"
      ]
     },
     "execution_count": 79,
     "metadata": {},
     "output_type": "execute_result"
    }
   ],
   "source": [
    "X=np.array(scaled_traindata.drop(['fare_amount'],axis='columns'))\n",
    "Y=np.array(scaled_traindata['fare_amount'])\n",
    "x_train,x_test,y_train,y_test=train_test_split(X,Y,random_state=6)\n",
    "from sklearn.linear_model import SGDRegressor\n",
    "from sklearn.metrics import r2_score\n",
    "reg = SGDRegressor(max_iter=100,learning_rate='constant',eta0=0.01)\n",
    "reg.fit(x_train,y_train)\n",
    "y_pred = reg.predict(x_test)\n",
    "r2_score(y_test,y_pred)"
   ]
  },
  {
   "cell_type": "code",
   "execution_count": 80,
   "id": "360bf852",
   "metadata": {},
   "outputs": [],
   "source": [
    "def MAPE(Y_actual,Y_Predicted):\n",
    "    mape = np.mean(np.abs((Y_actual - Y_Predicted)/Y_actual))*100\n",
    "    return mape"
   ]
  },
  {
   "cell_type": "code",
   "execution_count": 81,
   "id": "b76b8049",
   "metadata": {},
   "outputs": [
    {
     "data": {
      "text/plain": [
       "110.05216081294282"
      ]
     },
     "execution_count": 81,
     "metadata": {},
     "output_type": "execute_result"
    }
   ],
   "source": [
    "MAPE(y_test,y_pred)"
   ]
  },
  {
   "cell_type": "markdown",
   "id": "8459e74e",
   "metadata": {},
   "source": [
    "3. non-parametric approach(k nearest neighbours)"
   ]
  },
  {
   "cell_type": "code",
   "execution_count": 83,
   "id": "ab790f26",
   "metadata": {},
   "outputs": [
    {
     "name": "stdout",
     "output_type": "stream",
     "text": [
      "for k= 1 MAPE is 156.84490144265473\n",
      "for k= 2 MAPE is 134.6142624307537\n",
      "for k= 3 MAPE is 125.75728082280801\n",
      "for k= 4 MAPE is 120.85435127597131\n",
      "for k= 5 MAPE is 117.41193380682287\n",
      "for k= 6 MAPE is 115.21612065835572\n",
      "for k= 7 MAPE is 113.38397322329617\n",
      "for k= 8 MAPE is 111.99101655397065\n",
      "for k= 9 MAPE is 110.98740297991195\n",
      "for k= 10 MAPE is 110.1752301039972\n",
      "for k= 11 MAPE is 109.43166374089945\n",
      "for k= 12 MAPE is 108.8593992477027\n",
      "for k= 13 MAPE is 108.38511622229166\n",
      "for k= 14 MAPE is 107.93022915906907\n",
      "for k= 15 MAPE is 107.56597842432478\n",
      "for k= 16 MAPE is 107.3132746003906\n",
      "for k= 17 MAPE is 107.01372904762682\n",
      "for k= 18 MAPE is 106.84726108810733\n",
      "for k= 19 MAPE is 106.72112679631698\n",
      "for k= 20 MAPE is 106.53371811398851\n"
     ]
    }
   ],
   "source": [
    "from sklearn import neighbors\n",
    "from math import sqrt\n",
    "from sklearn.metrics import mean_squared_error \n",
    "X=np.array(scaled_traindata.drop(['fare_amount'],axis='columns'))\n",
    "Y=np.array(scaled_traindata['fare_amount'])\n",
    "x_train,x_test,y_train,y_test=train_test_split(X,Y,test_size=0.2,random_state=2)\n",
    "rmse_values = [] \n",
    "for K in range(20):\n",
    "    K = K+1\n",
    "    model = neighbors.KNeighborsRegressor(n_neighbors = K)\n",
    "    model.fit(x_train, y_train)  \n",
    "    predictions=model.predict(x_test) \n",
    "    error = sqrt(mean_squared_error(y_test,predictions))\n",
    "    rmse_values.append(error) \n",
    "    print(\"for k=\",K,\"MAPE is\",MAPE(y_test,predictions))"
   ]
  },
  {
   "cell_type": "code",
   "execution_count": 84,
   "id": "754a837d",
   "metadata": {},
   "outputs": [
    {
     "name": "stdout",
     "output_type": "stream",
     "text": [
      "for k= 1 rmse is 0.70981044838955\n",
      "for k= 2 rmse is 0.6136184962665074\n",
      "for k= 3 rmse is 0.5771982463162527\n",
      "for k= 4 rmse is 0.5595484590574242\n",
      "for k= 5 rmse is 0.5480169515249099\n",
      "for k= 6 rmse is 0.540250833749991\n",
      "for k= 7 rmse is 0.5349569047386562\n",
      "for k= 8 rmse is 0.5305591361697254\n",
      "for k= 9 rmse is 0.5274753220883104\n",
      "for k= 10 rmse is 0.5247243371041399\n",
      "for k= 11 rmse is 0.5225028495938792\n",
      "for k= 12 rmse is 0.5210604528252626\n",
      "for k= 13 rmse is 0.5194871036877803\n",
      "for k= 14 rmse is 0.5181792165900175\n",
      "for k= 15 rmse is 0.517255285530323\n",
      "for k= 16 rmse is 0.5163656768880126\n",
      "for k= 17 rmse is 0.5156649268116984\n",
      "for k= 18 rmse is 0.515166647243593\n",
      "for k= 19 rmse is 0.5146530899104214\n",
      "for k= 20 rmse is 0.5140082457718118\n"
     ]
    }
   ],
   "source": [
    "for j in range(len(rmse_values)):\n",
    "    print('for k=',j+1,'rmse is',rmse_values[j])"
   ]
  }
 ],
 "metadata": {
  "kernelspec": {
   "display_name": "Python 3 (ipykernel)",
   "language": "python",
   "name": "python3"
  },
  "language_info": {
   "codemirror_mode": {
    "name": "ipython",
    "version": 3
   },
   "file_extension": ".py",
   "mimetype": "text/x-python",
   "name": "python",
   "nbconvert_exporter": "python",
   "pygments_lexer": "ipython3",
   "version": "3.9.12"
  }
 },
 "nbformat": 4,
 "nbformat_minor": 5
}
